{
 "cells": [
  {
   "cell_type": "code",
   "execution_count": 1,
   "id": "6cab3e15",
   "metadata": {},
   "outputs": [],
   "source": [
    "from sklearn.manifold import TSNE\n",
    "import numpy as np\n",
    "import matplotlib.pyplot as plt\n",
    "from scipy.spatial import distance"
   ]
  },
  {
   "cell_type": "code",
   "execution_count": 2,
   "id": "4644f170",
   "metadata": {},
   "outputs": [],
   "source": [
    "word_annotations = {\n",
    " 'dog': 'animal',\n",
    " 'elephant': 'animal',\n",
    " 'snake': 'animal',\n",
    " 'pig': 'animal',\n",
    " 'cow': 'animal',\n",
    " 'fish': 'animal',\n",
    " 'cat': 'animal',\n",
    " 'steak': 'meal',\n",
    " 'kebab': 'meal',\n",
    " 'pork': 'meal',\n",
    " 'salad': 'meal',\n",
    " 'tomato': 'meal',\n",
    " 'onion': 'meal',\n",
    " 'car': 'vehicle',\n",
    " 'motorcycle': 'vehicle',\n",
    " 'bike': 'vehicle',\n",
    " 'airplane': 'vehicle',\n",
    " 'skateboard': 'vehicle',\n",
    " 'helicopter': 'vehicle',\n",
    " 'bicycle': 'vehicle',\n",
    " 'computer': 'technology',\n",
    " 'keyboard': 'technology',\n",
    " 'monitor': 'technology',\n",
    " 'cpu': 'technology',\n",
    " 'tv': 'technology',\n",
    " 'phone': 'technology',\n",
    "}\n",
    "\n",
    "categories = {'animal':'green', 'meal':'blue', 'vehicle':'yellow', 'technology':'red'}\n"
   ]
  },
  {
   "cell_type": "code",
   "execution_count": 3,
   "id": "9a5684af",
   "metadata": {},
   "outputs": [
    {
     "name": "stdout",
     "output_type": "stream",
     "text": [
      "['fasttext-wiki-news-subwords-300', 'conceptnet-numberbatch-17-06-300', 'word2vec-ruscorpora-300', 'word2vec-google-news-300', 'glove-wiki-gigaword-50', 'glove-wiki-gigaword-100', 'glove-wiki-gigaword-200', 'glove-wiki-gigaword-300', 'glove-twitter-25', 'glove-twitter-50', 'glove-twitter-100', 'glove-twitter-200', '__testing_word2vec-matrix-synopsis']\n"
     ]
    }
   ],
   "source": [
    "import gensim.downloader\n",
    "# Show all available models in gensim-data\n",
    "print(list(gensim.downloader.info()['models'].keys()))\n",
    "\n",
    "glove_vectors = gensim.downloader.load('glove-wiki-gigaword-300')"
   ]
  },
  {
   "cell_type": "code",
   "execution_count": 4,
   "id": "fe9fe359",
   "metadata": {},
   "outputs": [
    {
     "name": "stderr",
     "output_type": "stream",
     "text": [
      "D:\\dev\\neural-semantic-embeddings\\venv\\lib\\site-packages\\sklearn\\manifold\\_t_sne.py:780: FutureWarning: The default initialization in TSNE will change from 'random' to 'pca' in 1.2.\n",
      "  warnings.warn(\n",
      "D:\\dev\\neural-semantic-embeddings\\venv\\lib\\site-packages\\sklearn\\manifold\\_t_sne.py:790: FutureWarning: The default learning rate in TSNE will change from 200.0 to 'auto' in 1.2.\n",
      "  warnings.warn(\n"
     ]
    },
    {
     "data": {
      "image/png": "[encoded data removed]",
      "text/plain": [
       "<Figure size 432x288 with 1 Axes>"
      ]
     },
     "metadata": {
      "needs_background": "light"
     },
     "output_type": "display_data"
    }
   ],
   "source": [
    "X = []\n",
    "\n",
    "# Spaghetti code - clean it later\n",
    "words = list(word_annotations.keys()) + list(categories.keys())\n",
    "\n",
    "for col in words:\n",
    "    X.append(glove_vectors[col])\n",
    "  \n",
    "\n",
    "tsne = TSNE(n_components=2, n_iter=3000, random_state=np.random.RandomState(20), perplexity=10)\n",
    "X_tsne = tsne.fit_transform(X)\n",
    "\n",
    "c = [categories[word_annotations[x]] if x in word_annotations.keys() else 'black'  for x in words]\n",
    "\n",
    "fig, ax = plt.subplots()\n",
    "ax.scatter(X_tsne[:, 0], X_tsne[:, 1], c=c)\n",
    "\n",
    "for i, txt in enumerate(X):\n",
    "    ax.annotate(words[i], (X_tsne[:, 0][i], X_tsne[:, 1][i]))"
   ]
  },
  {
   "cell_type": "code",
   "execution_count": 5,
   "id": "4b275827",
   "metadata": {},
   "outputs": [],
   "source": [
    "word_annotations = {\n",
    "    'animal': ['dog', 'elephant', 'snake', 'pig', 'cow', 'fish', 'cat'],\n",
    "    'meal': ['steak', 'kebab', 'pork', 'salad', 'tomato', 'onion'],\n",
    "    'vehicle': ['car', 'motorcycle', 'bike', 'airplane', 'skateboard', 'helicopter', 'bicycle'],\n",
    "    'technology': ['computer', 'keyboard', 'monitor', 'cpu', 'tv', 'phone']\n",
    "}"
   ]
  },
  {
   "cell_type": "code",
   "execution_count": 6,
   "id": "997a5408",
   "metadata": {},
   "outputs": [
    {
     "data": {
      "text/plain": [
       "{'animal': 0.5259458252361843,\n",
       " 'meal': 0.6314259842038155,\n",
       " 'vehicle': 0.562164442879813,\n",
       " 'technology': 0.6926271319389343}"
      ]
     },
     "execution_count": 6,
     "metadata": {},
     "output_type": "execute_result"
    }
   ],
   "source": [
    "# MEAN DISTANCE OF ALL WORDS TO THEIR CATEGORY WORD, I.E. DOG TO ANIMAL, COMPUTER TO DEVICE ETC.\n",
    "mean_distance_dict = { i : 0 for i in word_annotations.keys() }\n",
    "\n",
    "for k,v in word_annotations.items():\n",
    "    for word in v:\n",
    "        mean_distance_dict[k] += distance.cosine(glove_vectors[k], glove_vectors[word])\n",
    "    mean_distance_dict[k] /= len(v)\n",
    "mean_distance_dict"
   ]
  },
  {
   "cell_type": "code",
   "execution_count": 7,
   "id": "84a8fc07",
   "metadata": {},
   "outputs": [
    {
     "data": {
      "text/plain": [
       "{'animal': 0.30942248204989337,\n",
       " 'meal': 0.2890694909942784,\n",
       " 'vehicle': 0.30595933161987166,\n",
       " 'technology': 0.37352369083595766}"
      ]
     },
     "execution_count": 7,
     "metadata": {},
     "output_type": "execute_result"
    }
   ],
   "source": [
    "# MEAN DISTANCE OF ALL WORDS TO MEAN VECTOR OF ALL WORDS IN CATEGORY\n",
    "category_vectors = { i : 300*[0] for i in word_annotations.keys() }\n",
    "category_vectors\n",
    "\n",
    "mean_distance_dict = { i : 0 for i in word_annotations.keys() }\n",
    "mean_distance_dict\n",
    "\n",
    "for k,v in word_annotations.items(): \n",
    "    for word in v:\n",
    "        category_vectors[k] = map(sum, zip(category_vectors[k],glove_vectors[word])) \n",
    "    category_vectors[k] = np.divide(list(category_vectors[k]), len(v))\n",
    "    \n",
    "    for word in v:\n",
    "        mean_distance_dict[k] += distance.cosine(category_vectors[k], glove_vectors[word])\n",
    "    mean_distance_dict[k] /= len(v)\n",
    "\n",
    "mean_distance_dict"
   ]
  },
  {
   "cell_type": "code",
   "execution_count": 8,
   "id": "212af610",
   "metadata": {},
   "outputs": [
    {
     "data": {
      "text/plain": [
       "300"
      ]
     },
     "execution_count": 8,
     "metadata": {},
     "output_type": "execute_result"
    }
   ],
   "source": [
    "len(glove_vectors[word])"
   ]
  },
  {
   "cell_type": "code",
   "execution_count": null,
   "id": "ab90b22c",
   "metadata": {},
   "outputs": [],
   "source": []
  }
 ],
 "metadata": {
  "kernelspec": {
   "display_name": "Python 3 (ipykernel)",
   "language": "python",
   "name": "python3"
  },
  "language_info": {
   "codemirror_mode": {
    "name": "ipython",
    "version": 3
   },
   "file_extension": ".py",
   "mimetype": "text/x-python",
   "name": "python",
   "nbconvert_exporter": "python",
   "pygments_lexer": "ipython3",
   "version": "3.10.3"
  }
 },
 "nbformat": 4,
 "nbformat_minor": 5
}
