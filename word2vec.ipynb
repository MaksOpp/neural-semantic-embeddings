{
 "cells": [
  {
   "cell_type": "code",
   "execution_count": null,
   "metadata": {},
   "outputs": [],
   "source": [
    "!pip3 uninstall pandas"
   ]
  },
  {
   "cell_type": "code",
   "execution_count": 1,
   "metadata": {
    "id": "Kas6LRvVm6tx"
   },
   "outputs": [],
   "source": [
    "!pip install --upgrade -q gspread"
   ]
  },
  {
   "cell_type": "code",
   "execution_count": 1,
   "metadata": {
    "id": "isZBF6d0vHKM"
   },
   "outputs": [
    {
     "ename": "ModuleNotFoundError",
     "evalue": "No module named 'pandas'",
     "output_type": "error",
     "traceback": [
      "\u001B[1;31m---------------------------------------------------------------------------\u001B[0m",
      "\u001B[1;31mModuleNotFoundError\u001B[0m                       Traceback (most recent call last)",
      "Input \u001B[1;32mIn [1]\u001B[0m, in \u001B[0;36m<cell line: 2>\u001B[1;34m()\u001B[0m\n\u001B[0;32m      1\u001B[0m \u001B[38;5;28;01mimport\u001B[39;00m \u001B[38;5;21;01mre\u001B[39;00m  \u001B[38;5;66;03m# For preprocessing\u001B[39;00m\n\u001B[1;32m----> 2\u001B[0m \u001B[38;5;28;01mimport\u001B[39;00m \u001B[38;5;21;01mpandas\u001B[39;00m \u001B[38;5;28;01mas\u001B[39;00m \u001B[38;5;21;01mpd\u001B[39;00m  \u001B[38;5;66;03m# For data handling\u001B[39;00m\n\u001B[0;32m      3\u001B[0m \u001B[38;5;28;01mfrom\u001B[39;00m \u001B[38;5;21;01mtime\u001B[39;00m \u001B[38;5;28;01mimport\u001B[39;00m time  \u001B[38;5;66;03m# To time our operations\u001B[39;00m\n\u001B[0;32m      4\u001B[0m \u001B[38;5;28;01mfrom\u001B[39;00m \u001B[38;5;21;01mcollections\u001B[39;00m \u001B[38;5;28;01mimport\u001B[39;00m defaultdict  \u001B[38;5;66;03m# For word frequency\u001B[39;00m\n",
      "\u001B[1;31mModuleNotFoundError\u001B[0m: No module named 'pandas'"
     ]
    }
   ],
   "source": [
    "import re  # For preprocessing\n",
    "import pandas as pd  # For data handling\n",
    "from time import time  # To time our operations\n",
    "from collections import defaultdict  # For word frequency\n",
    "\n",
    "import spacy  # For preprocessing\n",
    "\n",
    "import logging  # Setting up the loggings to monitor gensim\n",
    "logging.basicConfig(format=\"%(levelname)s - %(asctime)s: %(message)s\", datefmt= '%H:%M:%S', level=logging.INFO)"
   ]
  },
  {
   "cell_type": "code",
   "execution_count": null,
   "metadata": {
    "id": "Te-UT5Icm0dZ"
   },
   "outputs": [],
   "source": [
    "from google.colab import auth\n",
    "auth.authenticate_user()\n",
    "import gspread\n",
    "from oauth2client.client import GoogleCredentials\n",
    "\n",
    "# setup\n",
    "gc = gspread.authorize(GoogleCredentials.get_application_default())\n",
    "\n",
    "# read data and put it in a dataframe\n",
    "gsheets = gc.open_by_url('https://docs.google.com/spreadsheets/d/1AwqUNB68gx-KSlfYSib4RMGOEeHAViuElRsUFoA1cNA/edit?usp=sharing')\n",
    "# sheets = gsheets.worksheet('data available').get_all_values()\n",
    "# df = pd.DataFrame(sheets[1:], columns=sheets[0])"
   ]
  },
  {
   "cell_type": "code",
   "execution_count": null,
   "metadata": {
    "id": "VyfY4GQdnBdf"
   },
   "outputs": [],
   "source": [
    "sheets = gsheets.worksheet('All').get_all_values()"
   ]
  },
  {
   "cell_type": "code",
   "execution_count": null,
   "metadata": {
    "colab": {
     "base_uri": "https://localhost:8080/",
     "height": 1000
    },
    "id": "NGCndR8ToF39",
    "outputId": "bee4d450-7010-482b-c5c9-6d2528dc8917"
   },
   "outputs": [
    {
     "data": {
      "text/html": [
       "\n",
       "  <div id=\"df-602e3eb6-8e7f-4f9c-a606-f2e115a5cafc\">\n",
       "    <div class=\"colab-df-container\">\n",
       "      <div>\n",
       "<style scoped>\n",
       "    .dataframe tbody tr th:only-of-type {\n",
       "        vertical-align: middle;\n",
       "    }\n",
       "\n",
       "    .dataframe tbody tr th {\n",
       "        vertical-align: top;\n",
       "    }\n",
       "\n",
       "    .dataframe thead th {\n",
       "        text-align: right;\n",
       "    }\n",
       "</style>\n",
       "<table border=\"1\" class=\"dataframe\">\n",
       "  <thead>\n",
       "    <tr style=\"text-align: right;\">\n",
       "      <th></th>\n",
       "      <th>Dog</th>\n",
       "      <th>Elephant</th>\n",
       "      <th>Snake</th>\n",
       "      <th>Pig</th>\n",
       "      <th>Cow</th>\n",
       "      <th>Fish</th>\n",
       "      <th>Cat</th>\n",
       "      <th>Steak</th>\n",
       "      <th>Kebab</th>\n",
       "      <th>Pork</th>\n",
       "      <th>Salad</th>\n",
       "      <th>Tomato</th>\n",
       "      <th>Onion</th>\n",
       "      <th>Car</th>\n",
       "      <th>Motorcycle</th>\n",
       "      <th>Bike</th>\n",
       "      <th>Plane</th>\n",
       "      <th>Skateboard</th>\n",
       "      <th>Helicopter</th>\n",
       "      <th>Bicycle</th>\n",
       "      <th>Computer</th>\n",
       "      <th>Keyboard</th>\n",
       "      <th>Monitor</th>\n",
       "      <th>CPU</th>\n",
       "      <th>TV</th>\n",
       "      <th>Phone</th>\n",
       "    </tr>\n",
       "  </thead>\n",
       "  <tbody>\n",
       "    <tr>\n",
       "      <th>0</th>\n",
       "      <td>Does a dog have ears?</td>\n",
       "      <td>The appearance of the Asiatic elephant is fami...</td>\n",
       "      <td>There could be a snake in the daylight.</td>\n",
       "      <td>If I promise not to act like a misogynist pig,...</td>\n",
       "      <td>The Latin word for \"cow\" is vacca.</td>\n",
       "      <td>The fish flipped and dived back into the water.</td>\n",
       "      <td>I think the cat wants dessert!</td>\n",
       "      <td>That's a long way to drive for steak and potat...</td>\n",
       "      <td>The insane person, who will actually eat a kebab.</td>\n",
       "      <td>Your pork chops were a big hit, by the way.</td>\n",
       "      <td>He stirred his potato salad thoughtfully.</td>\n",
       "      <td>The tomato plants were drooping, their crop re...</td>\n",
       "      <td>It is also known as the underground onion, fro...</td>\n",
       "      <td>Her car was in full view.</td>\n",
       "      <td>However, talented artists can usually blend de...</td>\n",
       "      <td>The bike comes out tomorrow.</td>\n",
       "      <td>I'll make a plane reservation.</td>\n",
       "      <td>It is a small park with a skateboard area.</td>\n",
       "      <td>We've got a helicopter on the way.</td>\n",
       "      <td>The boy no doubt inherits a capacity for ridin...</td>\n",
       "      <td>A computer can do some tasks better than a per...</td>\n",
       "      <td>She began to paw at her computer keyboard, sea...</td>\n",
       "      <td>As he lifted the computer monitor, he caught s...</td>\n",
       "      <td>This year, Sony is seeking to top themselves w...</td>\n",
       "      <td>It's as safe as watching TV and a darned sight...</td>\n",
       "      <td>The phone woke me up, even though it wasn't ve...</td>\n",
       "    </tr>\n",
       "    <tr>\n",
       "      <th>1</th>\n",
       "      <td>Then let's have a seat and watch the puppy dog...</td>\n",
       "      <td>Further, the skin is stated to be much less ro...</td>\n",
       "      <td>A mouse she could handle – literally, but a sn...</td>\n",
       "      <td>Oh, what a pig I am! he repeated, flushing sud...</td>\n",
       "      <td>Can't you eat a cow or a rabbit or something?</td>\n",
       "      <td>I ate very small fish for supper.</td>\n",
       "      <td>I'm in no mood to watch a cat fight tonight.</td>\n",
       "      <td>They each ordered a salad and steak and attack...</td>\n",
       "      <td>You haven't had a dodgy doner kebab, have you?</td>\n",
       "      <td>The city is a manufacturing and railway centre...</td>\n",
       "      <td>She spread some salad dressing on a piece of b...</td>\n",
       "      <td>Try a crusty panini filled with soppressata, f...</td>\n",
       "      <td>The inhabitants of Pelusium in lower Egypt, wh...</td>\n",
       "      <td>Could we make a car that can go 300 mph?</td>\n",
       "      <td>Because of this, it's important that you take ...</td>\n",
       "      <td>The last 200 miles of the bus ride traversed t...</td>\n",
       "      <td>I'm still not going to watch your plane leave.</td>\n",
       "      <td>Finding the right skateboard can sound like qu...</td>\n",
       "      <td>The helicopter dropped and caught.</td>\n",
       "      <td>He ran out to his bicycle and pushed the kicks...</td>\n",
       "      <td>I haven't been near a computer since before I ...</td>\n",
       "      <td>The keyboard has five keys similar to those of...</td>\n",
       "      <td>It's my responsibility to monitor and deter th...</td>\n",
       "      <td>And uses almost ALL CPU to actually log in.</td>\n",
       "      <td>The only thing you watch on TV is football and...</td>\n",
       "      <td>Is he listening to your phone call?</td>\n",
       "    </tr>\n",
       "    <tr>\n",
       "      <th>2</th>\n",
       "      <td>My dog scared them away.</td>\n",
       "      <td>The Indian region is the home of the Indian el...</td>\n",
       "      <td>If there is a snake under it, that puts a rock...</td>\n",
       "      <td>He couldn't very well say, 'I really am that p...</td>\n",
       "      <td>Although the technique of growing cowpox on co...</td>\n",
       "      <td>You can be a cold fish, sometimes.</td>\n",
       "      <td>The cat would like to eat the mouse.</td>\n",
       "      <td>He forked a steak off the serving tray and han...</td>\n",
       "      <td>I followed with Fish kebab (£ 10.95) - a bumpe...</td>\n",
       "      <td>It is known for its pork pies, and has a trade...</td>\n",
       "      <td>Sarah came home as she was putting the tuna sa...</td>\n",
       "      <td>Salads include traditional antipasto, as well ...</td>\n",
       "      <td>As our fairies give gold which changes into wi...</td>\n",
       "      <td>The car warmed quickly and she fell asleep again.</td>\n",
       "      <td>Motorcycle Superstore is filled with motorcycl...</td>\n",
       "      <td>Time to go back to keeping the county safe, 'f...</td>\n",
       "      <td>The only thing left to do was pack and take a ...</td>\n",
       "      <td>I'm 33, female, I skateboard a little, have do...</td>\n",
       "      <td>The helicopter lifted away before Brady had tw...</td>\n",
       "      <td>The only thing you watch on TV is football and...</td>\n",
       "      <td>Her phone and computer are monitored.</td>\n",
       "      <td>Each channel consists of a keyboard and receiv...</td>\n",
       "      <td>He turned away from the monitor and searched h...</td>\n",
       "      <td>We replaced the CPU soak tested for 48 hours a...</td>\n",
       "      <td>Let's go watch TV in the family room.</td>\n",
       "      <td>Martha handed her the phone and I could tell b...</td>\n",
       "    </tr>\n",
       "    <tr>\n",
       "      <th>3</th>\n",
       "      <td>He held out his hand for the dog to sniff, but...</td>\n",
       "      <td>South of the Thames the thoroughfares crossing...</td>\n",
       "      <td>In tropical waters a sea snake is found, which...</td>\n",
       "      <td>In 2006, a pig was genetically engineered to p...</td>\n",
       "      <td>Of animals, the cow and the pig are her favour...</td>\n",
       "      <td>Did you ever hunt or fish with your father?</td>\n",
       "      <td>A large grey cat was asleep on a rocking chair.</td>\n",
       "      <td>Says the veterinarian who envisioned steak lin...</td>\n",
       "      <td>They provide nothing for the serious kebab con...</td>\n",
       "      <td>Swine and pork are largely exported to Russia ...</td>\n",
       "      <td>The salad was in the refrigerator and coffee w...</td>\n",
       "      <td>Other vegetables adopted from Mexico are the t...</td>\n",
       "      <td>The onion should be grown in an open situation...</td>\n",
       "      <td>I saw little Willie Swan in the car and he gav...</td>\n",
       "      <td>I am the only motorcycle rider in the office I...</td>\n",
       "      <td>Yeah, he was on a bike but it wasn't electric.</td>\n",
       "      <td>All right, I'll charter a plane for the morning.</td>\n",
       "      <td>Since 1999 we have been the UK 's premier onli...</td>\n",
       "      <td>She saw smoke moving across the sky a moment b...</td>\n",
       "      <td>He wore bathing trunks, a Phillies baseball ca...</td>\n",
       "      <td>The computer screen before him was blank, but ...</td>\n",
       "      <td>Rita Angeltoni banged away on her keyboard, co...</td>\n",
       "      <td>After two hours' fighting, the \"Monitor\" was d...</td>\n",
       "      <td>The greater the number, the less CPU the proce...</td>\n",
       "      <td>I did TV too, a McDonald's commercial.</td>\n",
       "      <td>The phone woke me.</td>\n",
       "    </tr>\n",
       "    <tr>\n",
       "      <th>4</th>\n",
       "      <td>This dog helped him watch the sheep.</td>\n",
       "      <td>Mahmud ordered Hasan Maimandi to take the poet...</td>\n",
       "      <td>What if a snake had been in those bushes?</td>\n",
       "      <td>Is it some ill-fed village hound yielding to t...</td>\n",
       "      <td>An elk cow burst out of the brush and skidded ...</td>\n",
       "      <td>Alex jerked the pole, setting the hook, and th...</td>\n",
       "      <td>The cat can see the mouse.</td>\n",
       "      <td>It is said that Lord Peterborough supping one ...</td>\n",
       "      <td>My favorite was the crispy corn kebab, which w...</td>\n",
       "      <td>Cynthia joined him with a tray of sacrificial ...</td>\n",
       "      <td>They each ordered a salad and steak and attack...</td>\n",
       "      <td>Serve with sliced banana, finely chopped onion...</td>\n",
       "      <td>Of the ancient cities in the Delta there are r...</td>\n",
       "      <td>Now, in most places you can smoke in your car,...</td>\n",
       "      <td>When you attend a motorcycle or moped test pre...</td>\n",
       "      <td>I told him we were trying to trace the electri...</td>\n",
       "      <td>But he had flown to Arkansas on a plane with her.</td>\n",
       "      <td>Much like the wheels, the height of the trucks...</td>\n",
       "      <td>She stared at a helicopter as it lifted nimbly...</td>\n",
       "      <td>But never, never, never in his entire life had...</td>\n",
       "      <td>All she had to do was choose the color she wan...</td>\n",
       "      <td>She continued to bang away on her keyboard, th...</td>\n",
       "      <td>Even if he couldn't close it, there had to be ...</td>\n",
       "      <td>Try opening up the case and checking to make s...</td>\n",
       "      <td>Whatever did we do without TV in elevators?</td>\n",
       "      <td>The phone was in the kitchen and we gave Howie...</td>\n",
       "    </tr>\n",
       "    <tr>\n",
       "      <th>...</th>\n",
       "      <td>...</td>\n",
       "      <td>...</td>\n",
       "      <td>...</td>\n",
       "      <td>...</td>\n",
       "      <td>...</td>\n",
       "      <td>...</td>\n",
       "      <td>...</td>\n",
       "      <td>...</td>\n",
       "      <td>...</td>\n",
       "      <td>...</td>\n",
       "      <td>...</td>\n",
       "      <td>...</td>\n",
       "      <td>...</td>\n",
       "      <td>...</td>\n",
       "      <td>...</td>\n",
       "      <td>...</td>\n",
       "      <td>...</td>\n",
       "      <td>...</td>\n",
       "      <td>...</td>\n",
       "      <td>...</td>\n",
       "      <td>...</td>\n",
       "      <td>...</td>\n",
       "      <td>...</td>\n",
       "      <td>...</td>\n",
       "      <td>...</td>\n",
       "      <td>...</td>\n",
       "    </tr>\n",
       "    <tr>\n",
       "      <th>380</th>\n",
       "      <td></td>\n",
       "      <td></td>\n",
       "      <td></td>\n",
       "      <td></td>\n",
       "      <td></td>\n",
       "      <td></td>\n",
       "      <td></td>\n",
       "      <td></td>\n",
       "      <td></td>\n",
       "      <td></td>\n",
       "      <td></td>\n",
       "      <td></td>\n",
       "      <td></td>\n",
       "      <td>Dean started to get out of the car but Weller ...</td>\n",
       "      <td></td>\n",
       "      <td></td>\n",
       "      <td></td>\n",
       "      <td></td>\n",
       "      <td></td>\n",
       "      <td></td>\n",
       "      <td></td>\n",
       "      <td></td>\n",
       "      <td></td>\n",
       "      <td></td>\n",
       "      <td></td>\n",
       "      <td></td>\n",
       "    </tr>\n",
       "    <tr>\n",
       "      <th>381</th>\n",
       "      <td></td>\n",
       "      <td></td>\n",
       "      <td></td>\n",
       "      <td></td>\n",
       "      <td></td>\n",
       "      <td></td>\n",
       "      <td></td>\n",
       "      <td></td>\n",
       "      <td></td>\n",
       "      <td></td>\n",
       "      <td></td>\n",
       "      <td></td>\n",
       "      <td></td>\n",
       "      <td>The foursome rode the gondola the short distan...</td>\n",
       "      <td></td>\n",
       "      <td></td>\n",
       "      <td></td>\n",
       "      <td></td>\n",
       "      <td></td>\n",
       "      <td></td>\n",
       "      <td></td>\n",
       "      <td></td>\n",
       "      <td></td>\n",
       "      <td></td>\n",
       "      <td></td>\n",
       "      <td></td>\n",
       "    </tr>\n",
       "    <tr>\n",
       "      <th>382</th>\n",
       "      <td></td>\n",
       "      <td></td>\n",
       "      <td></td>\n",
       "      <td></td>\n",
       "      <td></td>\n",
       "      <td></td>\n",
       "      <td></td>\n",
       "      <td></td>\n",
       "      <td></td>\n",
       "      <td></td>\n",
       "      <td></td>\n",
       "      <td></td>\n",
       "      <td></td>\n",
       "      <td>Riding in a police car is the next best thing ...</td>\n",
       "      <td></td>\n",
       "      <td></td>\n",
       "      <td></td>\n",
       "      <td></td>\n",
       "      <td></td>\n",
       "      <td></td>\n",
       "      <td></td>\n",
       "      <td></td>\n",
       "      <td></td>\n",
       "      <td></td>\n",
       "      <td></td>\n",
       "      <td></td>\n",
       "    </tr>\n",
       "    <tr>\n",
       "      <th>383</th>\n",
       "      <td></td>\n",
       "      <td></td>\n",
       "      <td></td>\n",
       "      <td></td>\n",
       "      <td></td>\n",
       "      <td></td>\n",
       "      <td></td>\n",
       "      <td></td>\n",
       "      <td></td>\n",
       "      <td></td>\n",
       "      <td></td>\n",
       "      <td></td>\n",
       "      <td></td>\n",
       "      <td>As he came out of the trees and crossed the br...</td>\n",
       "      <td></td>\n",
       "      <td></td>\n",
       "      <td></td>\n",
       "      <td></td>\n",
       "      <td></td>\n",
       "      <td></td>\n",
       "      <td></td>\n",
       "      <td></td>\n",
       "      <td></td>\n",
       "      <td></td>\n",
       "      <td></td>\n",
       "      <td></td>\n",
       "    </tr>\n",
       "    <tr>\n",
       "      <th>384</th>\n",
       "      <td></td>\n",
       "      <td></td>\n",
       "      <td></td>\n",
       "      <td></td>\n",
       "      <td></td>\n",
       "      <td></td>\n",
       "      <td></td>\n",
       "      <td></td>\n",
       "      <td></td>\n",
       "      <td></td>\n",
       "      <td></td>\n",
       "      <td></td>\n",
       "      <td></td>\n",
       "      <td>From Indianapolis, Cynthia would rent a car fo...</td>\n",
       "      <td></td>\n",
       "      <td></td>\n",
       "      <td></td>\n",
       "      <td></td>\n",
       "      <td></td>\n",
       "      <td></td>\n",
       "      <td></td>\n",
       "      <td></td>\n",
       "      <td></td>\n",
       "      <td></td>\n",
       "      <td></td>\n",
       "      <td></td>\n",
       "    </tr>\n",
       "  </tbody>\n",
       "</table>\n",
       "<p>385 rows × 26 columns</p>\n",
       "</div>\n",
       "      <button class=\"colab-df-convert\" onclick=\"convertToInteractive('df-602e3eb6-8e7f-4f9c-a606-f2e115a5cafc')\"\n",
       "              title=\"Convert this dataframe to an interactive table.\"\n",
       "              style=\"display:none;\">\n",
       "        \n",
       "  <svg xmlns=\"http://www.w3.org/2000/svg\" height=\"24px\"viewBox=\"0 0 24 24\"\n",
       "       width=\"24px\">\n",
       "    <path d=\"M0 0h24v24H0V0z\" fill=\"none\"/>\n",
       "    <path d=\"M18.56 5.44l.94 2.06.94-2.06 2.06-.94-2.06-.94-.94-2.06-.94 2.06-2.06.94zm-11 1L8.5 8.5l.94-2.06 2.06-.94-2.06-.94L8.5 2.5l-.94 2.06-2.06.94zm10 10l.94 2.06.94-2.06 2.06-.94-2.06-.94-.94-2.06-.94 2.06-2.06.94z\"/><path d=\"M17.41 7.96l-1.37-1.37c-.4-.4-.92-.59-1.43-.59-.52 0-1.04.2-1.43.59L10.3 9.45l-7.72 7.72c-.78.78-.78 2.05 0 2.83L4 21.41c.39.39.9.59 1.41.59.51 0 1.02-.2 1.41-.59l7.78-7.78 2.81-2.81c.8-.78.8-2.07 0-2.86zM5.41 20L4 18.59l7.72-7.72 1.47 1.35L5.41 20z\"/>\n",
       "  </svg>\n",
       "      </button>\n",
       "      \n",
       "  <style>\n",
       "    .colab-df-container {\n",
       "      display:flex;\n",
       "      flex-wrap:wrap;\n",
       "      gap: 12px;\n",
       "    }\n",
       "\n",
       "    .colab-df-convert {\n",
       "      background-color: #E8F0FE;\n",
       "      border: none;\n",
       "      border-radius: 50%;\n",
       "      cursor: pointer;\n",
       "      display: none;\n",
       "      fill: #1967D2;\n",
       "      height: 32px;\n",
       "      padding: 0 0 0 0;\n",
       "      width: 32px;\n",
       "    }\n",
       "\n",
       "    .colab-df-convert:hover {\n",
       "      background-color: #E2EBFA;\n",
       "      box-shadow: 0px 1px 2px rgba(60, 64, 67, 0.3), 0px 1px 3px 1px rgba(60, 64, 67, 0.15);\n",
       "      fill: #174EA6;\n",
       "    }\n",
       "\n",
       "    [theme=dark] .colab-df-convert {\n",
       "      background-color: #3B4455;\n",
       "      fill: #D2E3FC;\n",
       "    }\n",
       "\n",
       "    [theme=dark] .colab-df-convert:hover {\n",
       "      background-color: #434B5C;\n",
       "      box-shadow: 0px 1px 3px 1px rgba(0, 0, 0, 0.15);\n",
       "      filter: drop-shadow(0px 1px 2px rgba(0, 0, 0, 0.3));\n",
       "      fill: #FFFFFF;\n",
       "    }\n",
       "  </style>\n",
       "\n",
       "      <script>\n",
       "        const buttonEl =\n",
       "          document.querySelector('#df-602e3eb6-8e7f-4f9c-a606-f2e115a5cafc button.colab-df-convert');\n",
       "        buttonEl.style.display =\n",
       "          google.colab.kernel.accessAllowed ? 'block' : 'none';\n",
       "\n",
       "        async function convertToInteractive(key) {\n",
       "          const element = document.querySelector('#df-602e3eb6-8e7f-4f9c-a606-f2e115a5cafc');\n",
       "          const dataTable =\n",
       "            await google.colab.kernel.invokeFunction('convertToInteractive',\n",
       "                                                     [key], {});\n",
       "          if (!dataTable) return;\n",
       "\n",
       "          const docLinkHtml = 'Like what you see? Visit the ' +\n",
       "            '<a target=\"_blank\" href=https://colab.research.google.com/notebooks/data_table.ipynb>data table notebook</a>'\n",
       "            + ' to learn more about interactive tables.';\n",
       "          element.innerHTML = '';\n",
       "          dataTable['output_type'] = 'display_data';\n",
       "          await google.colab.output.renderOutput(dataTable, element);\n",
       "          const docLink = document.createElement('div');\n",
       "          docLink.innerHTML = docLinkHtml;\n",
       "          element.appendChild(docLink);\n",
       "        }\n",
       "      </script>\n",
       "    </div>\n",
       "  </div>\n",
       "  "
      ],
      "text/plain": [
       "                                                   Dog  ...                                              Phone\n",
       "0                                Does a dog have ears?  ...  The phone woke me up, even though it wasn't ve...\n",
       "1    Then let's have a seat and watch the puppy dog...  ...                Is he listening to your phone call?\n",
       "2                             My dog scared them away.  ...  Martha handed her the phone and I could tell b...\n",
       "3    He held out his hand for the dog to sniff, but...  ...                                 The phone woke me.\n",
       "4                 This dog helped him watch the sheep.  ...  The phone was in the kitchen and we gave Howie...\n",
       "..                                                 ...  ...                                                ...\n",
       "380                                                     ...                                                   \n",
       "381                                                     ...                                                   \n",
       "382                                                     ...                                                   \n",
       "383                                                     ...                                                   \n",
       "384                                                     ...                                                   \n",
       "\n",
       "[385 rows x 26 columns]"
      ]
     },
     "execution_count": 5,
     "metadata": {},
     "output_type": "execute_result"
    }
   ],
   "source": [
    "raw_df = pd.DataFrame(sheets[1:], columns=sheets[0])\n",
    "raw_df"
   ]
  },
  {
   "cell_type": "code",
   "execution_count": null,
   "metadata": {
    "colab": {
     "base_uri": "https://localhost:8080/",
     "height": 49
    },
    "id": "hDv1u_mevK9N",
    "outputId": "286914dc-28b5-4b92-9f3a-a57f0ce141d6"
   },
   "outputs": [
    {
     "data": {
      "text/html": [
       "\n",
       "  <div id=\"df-b68a5a21-91b7-4818-8963-354004a28cca\">\n",
       "    <div class=\"colab-df-container\">\n",
       "      <div>\n",
       "<style scoped>\n",
       "    .dataframe tbody tr th:only-of-type {\n",
       "        vertical-align: middle;\n",
       "    }\n",
       "\n",
       "    .dataframe tbody tr th {\n",
       "        vertical-align: top;\n",
       "    }\n",
       "\n",
       "    .dataframe thead th {\n",
       "        text-align: right;\n",
       "    }\n",
       "</style>\n",
       "<table border=\"1\" class=\"dataframe\">\n",
       "  <thead>\n",
       "    <tr style=\"text-align: right;\">\n",
       "      <th></th>\n",
       "      <th>raw_character_text</th>\n",
       "      <th>spoken_words</th>\n",
       "    </tr>\n",
       "  </thead>\n",
       "  <tbody>\n",
       "  </tbody>\n",
       "</table>\n",
       "</div>\n",
       "      <button class=\"colab-df-convert\" onclick=\"convertToInteractive('df-b68a5a21-91b7-4818-8963-354004a28cca')\"\n",
       "              title=\"Convert this dataframe to an interactive table.\"\n",
       "              style=\"display:none;\">\n",
       "        \n",
       "  <svg xmlns=\"http://www.w3.org/2000/svg\" height=\"24px\"viewBox=\"0 0 24 24\"\n",
       "       width=\"24px\">\n",
       "    <path d=\"M0 0h24v24H0V0z\" fill=\"none\"/>\n",
       "    <path d=\"M18.56 5.44l.94 2.06.94-2.06 2.06-.94-2.06-.94-.94-2.06-.94 2.06-2.06.94zm-11 1L8.5 8.5l.94-2.06 2.06-.94-2.06-.94L8.5 2.5l-.94 2.06-2.06.94zm10 10l.94 2.06.94-2.06 2.06-.94-2.06-.94-.94-2.06-.94 2.06-2.06.94z\"/><path d=\"M17.41 7.96l-1.37-1.37c-.4-.4-.92-.59-1.43-.59-.52 0-1.04.2-1.43.59L10.3 9.45l-7.72 7.72c-.78.78-.78 2.05 0 2.83L4 21.41c.39.39.9.59 1.41.59.51 0 1.02-.2 1.41-.59l7.78-7.78 2.81-2.81c.8-.78.8-2.07 0-2.86zM5.41 20L4 18.59l7.72-7.72 1.47 1.35L5.41 20z\"/>\n",
       "  </svg>\n",
       "      </button>\n",
       "      \n",
       "  <style>\n",
       "    .colab-df-container {\n",
       "      display:flex;\n",
       "      flex-wrap:wrap;\n",
       "      gap: 12px;\n",
       "    }\n",
       "\n",
       "    .colab-df-convert {\n",
       "      background-color: #E8F0FE;\n",
       "      border: none;\n",
       "      border-radius: 50%;\n",
       "      cursor: pointer;\n",
       "      display: none;\n",
       "      fill: #1967D2;\n",
       "      height: 32px;\n",
       "      padding: 0 0 0 0;\n",
       "      width: 32px;\n",
       "    }\n",
       "\n",
       "    .colab-df-convert:hover {\n",
       "      background-color: #E2EBFA;\n",
       "      box-shadow: 0px 1px 2px rgba(60, 64, 67, 0.3), 0px 1px 3px 1px rgba(60, 64, 67, 0.15);\n",
       "      fill: #174EA6;\n",
       "    }\n",
       "\n",
       "    [theme=dark] .colab-df-convert {\n",
       "      background-color: #3B4455;\n",
       "      fill: #D2E3FC;\n",
       "    }\n",
       "\n",
       "    [theme=dark] .colab-df-convert:hover {\n",
       "      background-color: #434B5C;\n",
       "      box-shadow: 0px 1px 3px 1px rgba(0, 0, 0, 0.15);\n",
       "      filter: drop-shadow(0px 1px 2px rgba(0, 0, 0, 0.3));\n",
       "      fill: #FFFFFF;\n",
       "    }\n",
       "  </style>\n",
       "\n",
       "      <script>\n",
       "        const buttonEl =\n",
       "          document.querySelector('#df-b68a5a21-91b7-4818-8963-354004a28cca button.colab-df-convert');\n",
       "        buttonEl.style.display =\n",
       "          google.colab.kernel.accessAllowed ? 'block' : 'none';\n",
       "\n",
       "        async function convertToInteractive(key) {\n",
       "          const element = document.querySelector('#df-b68a5a21-91b7-4818-8963-354004a28cca');\n",
       "          const dataTable =\n",
       "            await google.colab.kernel.invokeFunction('convertToInteractive',\n",
       "                                                     [key], {});\n",
       "          if (!dataTable) return;\n",
       "\n",
       "          const docLinkHtml = 'Like what you see? Visit the ' +\n",
       "            '<a target=\"_blank\" href=https://colab.research.google.com/notebooks/data_table.ipynb>data table notebook</a>'\n",
       "            + ' to learn more about interactive tables.';\n",
       "          element.innerHTML = '';\n",
       "          dataTable['output_type'] = 'display_data';\n",
       "          await google.colab.output.renderOutput(dataTable, element);\n",
       "          const docLink = document.createElement('div');\n",
       "          docLink.innerHTML = docLinkHtml;\n",
       "          element.appendChild(docLink);\n",
       "        }\n",
       "      </script>\n",
       "    </div>\n",
       "  </div>\n",
       "  "
      ],
      "text/plain": [
       "Empty DataFrame\n",
       "Columns: [raw_character_text, spoken_words]\n",
       "Index: []"
      ]
     },
     "execution_count": 6,
     "metadata": {},
     "output_type": "execute_result"
    }
   ],
   "source": [
    "df = pd.DataFrame({'raw_character_text' : [], 'spoken_words': []})\n",
    "df"
   ]
  },
  {
   "cell_type": "code",
   "execution_count": null,
   "metadata": {
    "colab": {
     "base_uri": "https://localhost:8080/",
     "height": 423
    },
    "id": "tdZvrNYaxwct",
    "outputId": "19e3c649-e549-4862-cf5c-06c3505d08a3"
   },
   "outputs": [
    {
     "data": {
      "text/html": [
       "\n",
       "  <div id=\"df-ca17ec1b-eab0-4e19-ad22-d43de3ef5e48\">\n",
       "    <div class=\"colab-df-container\">\n",
       "      <div>\n",
       "<style scoped>\n",
       "    .dataframe tbody tr th:only-of-type {\n",
       "        vertical-align: middle;\n",
       "    }\n",
       "\n",
       "    .dataframe tbody tr th {\n",
       "        vertical-align: top;\n",
       "    }\n",
       "\n",
       "    .dataframe thead th {\n",
       "        text-align: right;\n",
       "    }\n",
       "</style>\n",
       "<table border=\"1\" class=\"dataframe\">\n",
       "  <thead>\n",
       "    <tr style=\"text-align: right;\">\n",
       "      <th></th>\n",
       "      <th>raw_character_text</th>\n",
       "      <th>spoken_words</th>\n",
       "    </tr>\n",
       "  </thead>\n",
       "  <tbody>\n",
       "    <tr>\n",
       "      <th>0</th>\n",
       "      <td>Dog</td>\n",
       "      <td>Does a dog have ears?</td>\n",
       "    </tr>\n",
       "    <tr>\n",
       "      <th>1</th>\n",
       "      <td>Dog</td>\n",
       "      <td>Then let's have a seat and watch the puppy dog...</td>\n",
       "    </tr>\n",
       "    <tr>\n",
       "      <th>2</th>\n",
       "      <td>Dog</td>\n",
       "      <td>My dog scared them away.</td>\n",
       "    </tr>\n",
       "    <tr>\n",
       "      <th>3</th>\n",
       "      <td>Dog</td>\n",
       "      <td>He held out his hand for the dog to sniff, but...</td>\n",
       "    </tr>\n",
       "    <tr>\n",
       "      <th>4</th>\n",
       "      <td>Dog</td>\n",
       "      <td>This dog helped him watch the sheep.</td>\n",
       "    </tr>\n",
       "    <tr>\n",
       "      <th>...</th>\n",
       "      <td>...</td>\n",
       "      <td>...</td>\n",
       "    </tr>\n",
       "    <tr>\n",
       "      <th>6066</th>\n",
       "      <td>Phone</td>\n",
       "      <td>It was an independent lab and when Cynthia too...</td>\n",
       "    </tr>\n",
       "    <tr>\n",
       "      <th>6067</th>\n",
       "      <td>Phone</td>\n",
       "      <td>Before leaving the Beaumont, he looked at the ...</td>\n",
       "    </tr>\n",
       "    <tr>\n",
       "      <th>6068</th>\n",
       "      <td>Phone</td>\n",
       "      <td>The phone rang, precluding a pithy rejoinder, ...</td>\n",
       "    </tr>\n",
       "    <tr>\n",
       "      <th>6069</th>\n",
       "      <td>Phone</td>\n",
       "      <td>Dean handed the phone to his wife as the light...</td>\n",
       "    </tr>\n",
       "    <tr>\n",
       "      <th>6070</th>\n",
       "      <td>Phone</td>\n",
       "      <td>While Bird Song waited, Mrs. Worthington, prom...</td>\n",
       "    </tr>\n",
       "  </tbody>\n",
       "</table>\n",
       "<p>6071 rows × 2 columns</p>\n",
       "</div>\n",
       "      <button class=\"colab-df-convert\" onclick=\"convertToInteractive('df-ca17ec1b-eab0-4e19-ad22-d43de3ef5e48')\"\n",
       "              title=\"Convert this dataframe to an interactive table.\"\n",
       "              style=\"display:none;\">\n",
       "        \n",
       "  <svg xmlns=\"http://www.w3.org/2000/svg\" height=\"24px\"viewBox=\"0 0 24 24\"\n",
       "       width=\"24px\">\n",
       "    <path d=\"M0 0h24v24H0V0z\" fill=\"none\"/>\n",
       "    <path d=\"M18.56 5.44l.94 2.06.94-2.06 2.06-.94-2.06-.94-.94-2.06-.94 2.06-2.06.94zm-11 1L8.5 8.5l.94-2.06 2.06-.94-2.06-.94L8.5 2.5l-.94 2.06-2.06.94zm10 10l.94 2.06.94-2.06 2.06-.94-2.06-.94-.94-2.06-.94 2.06-2.06.94z\"/><path d=\"M17.41 7.96l-1.37-1.37c-.4-.4-.92-.59-1.43-.59-.52 0-1.04.2-1.43.59L10.3 9.45l-7.72 7.72c-.78.78-.78 2.05 0 2.83L4 21.41c.39.39.9.59 1.41.59.51 0 1.02-.2 1.41-.59l7.78-7.78 2.81-2.81c.8-.78.8-2.07 0-2.86zM5.41 20L4 18.59l7.72-7.72 1.47 1.35L5.41 20z\"/>\n",
       "  </svg>\n",
       "      </button>\n",
       "      \n",
       "  <style>\n",
       "    .colab-df-container {\n",
       "      display:flex;\n",
       "      flex-wrap:wrap;\n",
       "      gap: 12px;\n",
       "    }\n",
       "\n",
       "    .colab-df-convert {\n",
       "      background-color: #E8F0FE;\n",
       "      border: none;\n",
       "      border-radius: 50%;\n",
       "      cursor: pointer;\n",
       "      display: none;\n",
       "      fill: #1967D2;\n",
       "      height: 32px;\n",
       "      padding: 0 0 0 0;\n",
       "      width: 32px;\n",
       "    }\n",
       "\n",
       "    .colab-df-convert:hover {\n",
       "      background-color: #E2EBFA;\n",
       "      box-shadow: 0px 1px 2px rgba(60, 64, 67, 0.3), 0px 1px 3px 1px rgba(60, 64, 67, 0.15);\n",
       "      fill: #174EA6;\n",
       "    }\n",
       "\n",
       "    [theme=dark] .colab-df-convert {\n",
       "      background-color: #3B4455;\n",
       "      fill: #D2E3FC;\n",
       "    }\n",
       "\n",
       "    [theme=dark] .colab-df-convert:hover {\n",
       "      background-color: #434B5C;\n",
       "      box-shadow: 0px 1px 3px 1px rgba(0, 0, 0, 0.15);\n",
       "      filter: drop-shadow(0px 1px 2px rgba(0, 0, 0, 0.3));\n",
       "      fill: #FFFFFF;\n",
       "    }\n",
       "  </style>\n",
       "\n",
       "      <script>\n",
       "        const buttonEl =\n",
       "          document.querySelector('#df-ca17ec1b-eab0-4e19-ad22-d43de3ef5e48 button.colab-df-convert');\n",
       "        buttonEl.style.display =\n",
       "          google.colab.kernel.accessAllowed ? 'block' : 'none';\n",
       "\n",
       "        async function convertToInteractive(key) {\n",
       "          const element = document.querySelector('#df-ca17ec1b-eab0-4e19-ad22-d43de3ef5e48');\n",
       "          const dataTable =\n",
       "            await google.colab.kernel.invokeFunction('convertToInteractive',\n",
       "                                                     [key], {});\n",
       "          if (!dataTable) return;\n",
       "\n",
       "          const docLinkHtml = 'Like what you see? Visit the ' +\n",
       "            '<a target=\"_blank\" href=https://colab.research.google.com/notebooks/data_table.ipynb>data table notebook</a>'\n",
       "            + ' to learn more about interactive tables.';\n",
       "          element.innerHTML = '';\n",
       "          dataTable['output_type'] = 'display_data';\n",
       "          await google.colab.output.renderOutput(dataTable, element);\n",
       "          const docLink = document.createElement('div');\n",
       "          docLink.innerHTML = docLinkHtml;\n",
       "          element.appendChild(docLink);\n",
       "        }\n",
       "      </script>\n",
       "    </div>\n",
       "  </div>\n",
       "  "
      ],
      "text/plain": [
       "     raw_character_text                                       spoken_words\n",
       "0                   Dog                              Does a dog have ears?\n",
       "1                   Dog  Then let's have a seat and watch the puppy dog...\n",
       "2                   Dog                           My dog scared them away.\n",
       "3                   Dog  He held out his hand for the dog to sniff, but...\n",
       "4                   Dog               This dog helped him watch the sheep.\n",
       "...                 ...                                                ...\n",
       "6066              Phone  It was an independent lab and when Cynthia too...\n",
       "6067              Phone  Before leaving the Beaumont, he looked at the ...\n",
       "6068              Phone  The phone rang, precluding a pithy rejoinder, ...\n",
       "6069              Phone  Dean handed the phone to his wife as the light...\n",
       "6070              Phone  While Bird Song waited, Mrs. Worthington, prom...\n",
       "\n",
       "[6071 rows x 2 columns]"
      ]
     },
     "execution_count": 7,
     "metadata": {},
     "output_type": "execute_result"
    }
   ],
   "source": [
    "for column in raw_df.columns:\n",
    "  for value in raw_df[column]:\n",
    "    if value:\n",
    "      df = df.append({'raw_character_text': column, 'spoken_words': value}, ignore_index=True)\n",
    "\n",
    "df"
   ]
  },
  {
   "cell_type": "code",
   "execution_count": null,
   "metadata": {
    "colab": {
     "base_uri": "https://localhost:8080/"
    },
    "id": "HfmuwXymIqKY",
    "outputId": "6024a753-c465-4df5-dd5d-869e51014488"
   },
   "outputs": [
    {
     "data": {
      "text/plain": [
       "Car           385\n",
       "Fish          340\n",
       "Keyboard      329\n",
       "Dog           326\n",
       "Computer      324\n",
       "Cow           292\n",
       "Monitor       292\n",
       "Phone         286\n",
       "Snake         257\n",
       "TV            256\n",
       "Bike          254\n",
       "Tomato        253\n",
       "Steak         252\n",
       "Pig           251\n",
       "Motorcycle    248\n",
       "Salad         232\n",
       "Plane         228\n",
       "Pork          213\n",
       "Cat           212\n",
       "Bicycle       191\n",
       "Onion         181\n",
       "Elephant      168\n",
       "Helicopter    166\n",
       "CPU            68\n",
       "Skateboard     50\n",
       "Kebab          17\n",
       "Name: raw_character_text, dtype: int64"
      ]
     },
     "execution_count": 8,
     "metadata": {},
     "output_type": "execute_result"
    }
   ],
   "source": [
    "df['raw_character_text'].value_counts()"
   ]
  },
  {
   "cell_type": "code",
   "execution_count": null,
   "metadata": {
    "colab": {
     "base_uri": "https://localhost:8080/"
    },
    "id": "zA4QjeOWzKV1",
    "outputId": "8e9bdbc2-5ce8-4418-c9f1-cf0294fa898a"
   },
   "outputs": [
    {
     "data": {
      "text/plain": [
       "raw_character_text    0\n",
       "spoken_words          0\n",
       "dtype: int64"
      ]
     },
     "execution_count": 9,
     "metadata": {},
     "output_type": "execute_result"
    }
   ],
   "source": [
    "df.isnull().sum()"
   ]
  },
  {
   "cell_type": "code",
   "execution_count": null,
   "metadata": {
    "id": "wOwbEPjazgg4"
   },
   "outputs": [],
   "source": [
    "nlp = spacy.load('en', disable=['ner', 'parser']) # disabling Named Entity Recognition for speed\n",
    "\n",
    "def cleaning(doc):\n",
    "    # Lemmatizes and removes stopwords\n",
    "    # doc needs to be a spacy Doc object\n",
    "    txt = [token.lemma_ for token in doc if not token.is_stop and (len(token) > 2 or str(token).lower() == 'tv')]\n",
    "\n",
    "    # Word2Vec uses context words to learn the vector representation of a target word,\n",
    "    # if a sentence is only one or two words long,\n",
    "    # the benefit for the training is very small\n",
    "    if len(txt) > 2:\n",
    "        return ' '.join(txt)\n",
    "\n",
    "brief_cleaning = (re.sub(\"[^A-Za-z']+\", ' ', str(row)).lower() for row in df['spoken_words'])"
   ]
  },
  {
   "cell_type": "code",
   "execution_count": null,
   "metadata": {
    "colab": {
     "base_uri": "https://localhost:8080/"
    },
    "id": "BLSOfMHVzlKi",
    "outputId": "7e326571-236d-494f-af4e-4f5e850dbcef"
   },
   "outputs": [
    {
     "name": "stdout",
     "output_type": "stream",
     "text": [
      "Time to clean up everything: 0.24 mins\n"
     ]
    }
   ],
   "source": [
    "t = time()\n",
    "\n",
    "txt = [cleaning(doc) for doc in nlp.pipe(brief_cleaning, batch_size=5000, n_threads=-1)]\n",
    "\n",
    "print('Time to clean up everything: {} mins'.format(round((time() - t) / 60, 2)))"
   ]
  },
  {
   "cell_type": "code",
   "execution_count": null,
   "metadata": {
    "colab": {
     "base_uri": "https://localhost:8080/"
    },
    "id": "VZFgiPNgzmkO",
    "outputId": "bc1eb59d-0fbe-41c2-8def-03595503e9e3"
   },
   "outputs": [
    {
     "data": {
      "text/plain": [
       "(5817, 1)"
      ]
     },
     "execution_count": 38,
     "metadata": {},
     "output_type": "execute_result"
    }
   ],
   "source": [
    "df_clean = pd.DataFrame({'clean': txt})\n",
    "df_clean = df_clean.dropna().drop_duplicates()\n",
    "df_clean.shape"
   ]
  },
  {
   "cell_type": "code",
   "execution_count": null,
   "metadata": {
    "colab": {
     "base_uri": "https://localhost:8080/",
     "height": 423
    },
    "id": "dqyUqNOCMJc1",
    "outputId": "93b00aaa-73b7-4bb7-e6a6-4d23d13b150a"
   },
   "outputs": [
    {
     "data": {
      "text/html": [
       "\n",
       "  <div id=\"df-139d583e-b5e7-4d07-81f9-7c5b93a08ec0\">\n",
       "    <div class=\"colab-df-container\">\n",
       "      <div>\n",
       "<style scoped>\n",
       "    .dataframe tbody tr th:only-of-type {\n",
       "        vertical-align: middle;\n",
       "    }\n",
       "\n",
       "    .dataframe tbody tr th {\n",
       "        vertical-align: top;\n",
       "    }\n",
       "\n",
       "    .dataframe thead th {\n",
       "        text-align: right;\n",
       "    }\n",
       "</style>\n",
       "<table border=\"1\" class=\"dataframe\">\n",
       "  <thead>\n",
       "    <tr style=\"text-align: right;\">\n",
       "      <th></th>\n",
       "      <th>clean</th>\n",
       "    </tr>\n",
       "  </thead>\n",
       "  <tbody>\n",
       "    <tr>\n",
       "      <th>1</th>\n",
       "      <td>let seat watch puppy dog parade</td>\n",
       "    </tr>\n",
       "    <tr>\n",
       "      <th>2</th>\n",
       "      <td>dog scare away</td>\n",
       "    </tr>\n",
       "    <tr>\n",
       "      <th>3</th>\n",
       "      <td>hold hand dog sniff nikolai nuzzle nose instead</td>\n",
       "    </tr>\n",
       "    <tr>\n",
       "      <th>4</th>\n",
       "      <td>dog help watch sheep</td>\n",
       "    </tr>\n",
       "    <tr>\n",
       "      <th>5</th>\n",
       "      <td>poor owner crumple van sob accordioned quarter...</td>\n",
       "    </tr>\n",
       "    <tr>\n",
       "      <th>...</th>\n",
       "      <td>...</td>\n",
       "    </tr>\n",
       "    <tr>\n",
       "      <th>6066</th>\n",
       "      <td>independent lab cynthia take bathroom break fr...</td>\n",
       "    </tr>\n",
       "    <tr>\n",
       "      <th>6067</th>\n",
       "      <td>leave beaumont look recently publish ouray pho...</td>\n",
       "    </tr>\n",
       "    <tr>\n",
       "      <th>6068</th>\n",
       "      <td>phone rang preclude pithy rejoinder cynthia el...</td>\n",
       "    </tr>\n",
       "    <tr>\n",
       "      <th>6069</th>\n",
       "      <td>dean hand phone wife light go like comic book ...</td>\n",
       "    </tr>\n",
       "    <tr>\n",
       "      <th>6070</th>\n",
       "      <td>bird song wait mrs worthington prompt fred pho...</td>\n",
       "    </tr>\n",
       "  </tbody>\n",
       "</table>\n",
       "<p>5817 rows × 1 columns</p>\n",
       "</div>\n",
       "      <button class=\"colab-df-convert\" onclick=\"convertToInteractive('df-139d583e-b5e7-4d07-81f9-7c5b93a08ec0')\"\n",
       "              title=\"Convert this dataframe to an interactive table.\"\n",
       "              style=\"display:none;\">\n",
       "        \n",
       "  <svg xmlns=\"http://www.w3.org/2000/svg\" height=\"24px\"viewBox=\"0 0 24 24\"\n",
       "       width=\"24px\">\n",
       "    <path d=\"M0 0h24v24H0V0z\" fill=\"none\"/>\n",
       "    <path d=\"M18.56 5.44l.94 2.06.94-2.06 2.06-.94-2.06-.94-.94-2.06-.94 2.06-2.06.94zm-11 1L8.5 8.5l.94-2.06 2.06-.94-2.06-.94L8.5 2.5l-.94 2.06-2.06.94zm10 10l.94 2.06.94-2.06 2.06-.94-2.06-.94-.94-2.06-.94 2.06-2.06.94z\"/><path d=\"M17.41 7.96l-1.37-1.37c-.4-.4-.92-.59-1.43-.59-.52 0-1.04.2-1.43.59L10.3 9.45l-7.72 7.72c-.78.78-.78 2.05 0 2.83L4 21.41c.39.39.9.59 1.41.59.51 0 1.02-.2 1.41-.59l7.78-7.78 2.81-2.81c.8-.78.8-2.07 0-2.86zM5.41 20L4 18.59l7.72-7.72 1.47 1.35L5.41 20z\"/>\n",
       "  </svg>\n",
       "      </button>\n",
       "      \n",
       "  <style>\n",
       "    .colab-df-container {\n",
       "      display:flex;\n",
       "      flex-wrap:wrap;\n",
       "      gap: 12px;\n",
       "    }\n",
       "\n",
       "    .colab-df-convert {\n",
       "      background-color: #E8F0FE;\n",
       "      border: none;\n",
       "      border-radius: 50%;\n",
       "      cursor: pointer;\n",
       "      display: none;\n",
       "      fill: #1967D2;\n",
       "      height: 32px;\n",
       "      padding: 0 0 0 0;\n",
       "      width: 32px;\n",
       "    }\n",
       "\n",
       "    .colab-df-convert:hover {\n",
       "      background-color: #E2EBFA;\n",
       "      box-shadow: 0px 1px 2px rgba(60, 64, 67, 0.3), 0px 1px 3px 1px rgba(60, 64, 67, 0.15);\n",
       "      fill: #174EA6;\n",
       "    }\n",
       "\n",
       "    [theme=dark] .colab-df-convert {\n",
       "      background-color: #3B4455;\n",
       "      fill: #D2E3FC;\n",
       "    }\n",
       "\n",
       "    [theme=dark] .colab-df-convert:hover {\n",
       "      background-color: #434B5C;\n",
       "      box-shadow: 0px 1px 3px 1px rgba(0, 0, 0, 0.15);\n",
       "      filter: drop-shadow(0px 1px 2px rgba(0, 0, 0, 0.3));\n",
       "      fill: #FFFFFF;\n",
       "    }\n",
       "  </style>\n",
       "\n",
       "      <script>\n",
       "        const buttonEl =\n",
       "          document.querySelector('#df-139d583e-b5e7-4d07-81f9-7c5b93a08ec0 button.colab-df-convert');\n",
       "        buttonEl.style.display =\n",
       "          google.colab.kernel.accessAllowed ? 'block' : 'none';\n",
       "\n",
       "        async function convertToInteractive(key) {\n",
       "          const element = document.querySelector('#df-139d583e-b5e7-4d07-81f9-7c5b93a08ec0');\n",
       "          const dataTable =\n",
       "            await google.colab.kernel.invokeFunction('convertToInteractive',\n",
       "                                                     [key], {});\n",
       "          if (!dataTable) return;\n",
       "\n",
       "          const docLinkHtml = 'Like what you see? Visit the ' +\n",
       "            '<a target=\"_blank\" href=https://colab.research.google.com/notebooks/data_table.ipynb>data table notebook</a>'\n",
       "            + ' to learn more about interactive tables.';\n",
       "          element.innerHTML = '';\n",
       "          dataTable['output_type'] = 'display_data';\n",
       "          await google.colab.output.renderOutput(dataTable, element);\n",
       "          const docLink = document.createElement('div');\n",
       "          docLink.innerHTML = docLinkHtml;\n",
       "          element.appendChild(docLink);\n",
       "        }\n",
       "      </script>\n",
       "    </div>\n",
       "  </div>\n",
       "  "
      ],
      "text/plain": [
       "                                                  clean\n",
       "1                       let seat watch puppy dog parade\n",
       "2                                        dog scare away\n",
       "3       hold hand dog sniff nikolai nuzzle nose instead\n",
       "4                                  dog help watch sheep\n",
       "5     poor owner crumple van sob accordioned quarter...\n",
       "...                                                 ...\n",
       "6066  independent lab cynthia take bathroom break fr...\n",
       "6067  leave beaumont look recently publish ouray pho...\n",
       "6068  phone rang preclude pithy rejoinder cynthia el...\n",
       "6069  dean hand phone wife light go like comic book ...\n",
       "6070  bird song wait mrs worthington prompt fred pho...\n",
       "\n",
       "[5817 rows x 1 columns]"
      ]
     },
     "execution_count": 39,
     "metadata": {},
     "output_type": "execute_result"
    }
   ],
   "source": [
    "df_clean"
   ]
  },
  {
   "cell_type": "code",
   "execution_count": null,
   "metadata": {
    "colab": {
     "base_uri": "https://localhost:8080/"
    },
    "id": "TAArujHHz0mp",
    "outputId": "8b4b9e75-eda0-49eb-98d3-3060fc48d1ef"
   },
   "outputs": [
    {
     "name": "stderr",
     "output_type": "stream",
     "text": [
      "INFO - 23:51:28: collecting all words and their counts\n",
      "INFO - 23:51:28: PROGRESS: at sentence #0, processed 0 words and 0 word types\n",
      "INFO - 23:51:28: PROGRESS: at sentence #100, processed 1340 words and 2097 word types\n",
      "INFO - 23:51:28: PROGRESS: at sentence #200, processed 2738 words and 4012 word types\n",
      "INFO - 23:51:28: PROGRESS: at sentence #300, processed 3595 words and 5038 word types\n",
      "INFO - 23:51:28: PROGRESS: at sentence #400, processed 4868 words and 6634 word types\n",
      "INFO - 23:51:28: PROGRESS: at sentence #500, processed 6264 words and 8222 word types\n",
      "INFO - 23:51:28: PROGRESS: at sentence #600, processed 7449 words and 9660 word types\n",
      "INFO - 23:51:28: PROGRESS: at sentence #700, processed 8478 words and 10846 word types\n",
      "INFO - 23:51:28: PROGRESS: at sentence #800, processed 9991 words and 12528 word types\n",
      "INFO - 23:51:28: PROGRESS: at sentence #900, processed 11108 words and 13776 word types\n",
      "INFO - 23:51:28: PROGRESS: at sentence #1000, processed 12146 words and 14957 word types\n",
      "INFO - 23:51:28: PROGRESS: at sentence #1100, processed 13118 words and 16058 word types\n",
      "INFO - 23:51:28: PROGRESS: at sentence #1200, processed 14224 words and 17143 word types\n",
      "INFO - 23:51:28: PROGRESS: at sentence #1300, processed 15230 words and 18222 word types\n",
      "INFO - 23:51:28: PROGRESS: at sentence #1400, processed 16770 words and 19955 word types\n",
      "INFO - 23:51:28: PROGRESS: at sentence #1500, processed 18311 words and 21524 word types\n",
      "INFO - 23:51:28: PROGRESS: at sentence #1600, processed 19759 words and 22983 word types\n",
      "INFO - 23:51:28: PROGRESS: at sentence #1700, processed 20626 words and 23895 word types\n",
      "INFO - 23:51:28: PROGRESS: at sentence #1800, processed 21432 words and 24712 word types\n",
      "INFO - 23:51:28: PROGRESS: at sentence #1900, processed 22505 words and 25776 word types\n",
      "INFO - 23:51:28: PROGRESS: at sentence #2000, processed 23669 words and 26776 word types\n",
      "INFO - 23:51:28: PROGRESS: at sentence #2100, processed 24729 words and 27767 word types\n",
      "INFO - 23:51:28: PROGRESS: at sentence #2200, processed 25783 words and 28697 word types\n",
      "INFO - 23:51:28: PROGRESS: at sentence #2300, processed 26948 words and 29745 word types\n",
      "INFO - 23:51:28: PROGRESS: at sentence #2400, processed 27958 words and 30630 word types\n",
      "INFO - 23:51:28: PROGRESS: at sentence #2500, processed 28899 words and 31426 word types\n",
      "INFO - 23:51:28: PROGRESS: at sentence #2600, processed 29968 words and 32320 word types\n",
      "INFO - 23:51:28: PROGRESS: at sentence #2700, processed 31137 words and 33287 word types\n",
      "INFO - 23:51:28: PROGRESS: at sentence #2800, processed 32171 words and 34167 word types\n",
      "INFO - 23:51:28: PROGRESS: at sentence #2900, processed 33053 words and 34912 word types\n",
      "INFO - 23:51:28: PROGRESS: at sentence #3000, processed 33723 words and 35476 word types\n",
      "INFO - 23:51:28: PROGRESS: at sentence #3100, processed 34457 words and 36126 word types\n",
      "INFO - 23:51:28: PROGRESS: at sentence #3200, processed 35188 words and 36748 word types\n",
      "INFO - 23:51:28: PROGRESS: at sentence #3300, processed 36130 words and 37689 word types\n",
      "INFO - 23:51:28: PROGRESS: at sentence #3400, processed 37067 words and 38473 word types\n",
      "INFO - 23:51:28: PROGRESS: at sentence #3500, processed 38058 words and 39342 word types\n",
      "INFO - 23:51:28: PROGRESS: at sentence #3600, processed 38934 words and 40193 word types\n",
      "INFO - 23:51:28: PROGRESS: at sentence #3700, processed 39788 words and 40990 word types\n",
      "INFO - 23:51:28: PROGRESS: at sentence #3800, processed 41381 words and 42662 word types\n",
      "INFO - 23:51:28: PROGRESS: at sentence #3900, processed 43021 words and 44201 word types\n",
      "INFO - 23:51:28: PROGRESS: at sentence #4000, processed 44069 words and 45246 word types\n",
      "INFO - 23:51:28: PROGRESS: at sentence #4100, processed 45033 words and 46202 word types\n",
      "INFO - 23:51:28: PROGRESS: at sentence #4200, processed 45995 words and 47054 word types\n",
      "INFO - 23:51:28: PROGRESS: at sentence #4300, processed 47170 words and 48058 word types\n",
      "INFO - 23:51:28: PROGRESS: at sentence #4400, processed 47911 words and 48748 word types\n",
      "INFO - 23:51:29: PROGRESS: at sentence #4500, processed 48817 words and 49630 word types\n",
      "INFO - 23:51:29: PROGRESS: at sentence #4600, processed 49724 words and 50526 word types\n",
      "INFO - 23:51:29: PROGRESS: at sentence #4700, processed 50697 words and 51483 word types\n",
      "INFO - 23:51:29: PROGRESS: at sentence #4800, processed 51705 words and 52374 word types\n",
      "INFO - 23:51:29: PROGRESS: at sentence #4900, processed 52771 words and 53207 word types\n",
      "INFO - 23:51:29: PROGRESS: at sentence #5000, processed 53809 words and 54080 word types\n",
      "INFO - 23:51:29: PROGRESS: at sentence #5100, processed 54720 words and 54982 word types\n",
      "INFO - 23:51:29: PROGRESS: at sentence #5200, processed 55732 words and 55787 word types\n",
      "INFO - 23:51:29: PROGRESS: at sentence #5300, processed 56705 words and 56571 word types\n",
      "INFO - 23:51:29: PROGRESS: at sentence #5400, processed 57631 words and 57438 word types\n",
      "INFO - 23:51:29: PROGRESS: at sentence #5500, processed 58551 words and 58305 word types\n",
      "INFO - 23:51:29: PROGRESS: at sentence #5600, processed 59343 words and 58978 word types\n",
      "INFO - 23:51:29: PROGRESS: at sentence #5700, processed 60003 words and 59493 word types\n",
      "INFO - 23:51:29: PROGRESS: at sentence #5800, processed 60651 words and 59969 word types\n",
      "INFO - 23:51:29: collected 60113 word types from a corpus of 60809 words (unigram + bigrams) and 5817 sentences\n",
      "INFO - 23:51:29: using 60113 counts as vocab in Phrases<0 vocab, min_count=5, threshold=10.0, max_vocab_size=40000000>\n",
      "INFO - 23:51:29: source_vocab length 60113\n",
      "INFO - 23:51:29: Phraser built with 147 phrasegrams\n"
     ]
    }
   ],
   "source": [
    "from gensim.models.phrases import Phrases, Phraser\n",
    "\n",
    "sent = [row.split() for row in df_clean['clean']]\n",
    "\n",
    "phrases = Phrases(sent, min_count=5, progress_per=100)\n",
    "\n",
    "bigram = Phraser(phrases)\n",
    "\n",
    "sentences = bigram[sent]"
   ]
  },
  {
   "cell_type": "code",
   "execution_count": null,
   "metadata": {
    "colab": {
     "base_uri": "https://localhost:8080/"
    },
    "id": "agS2auSp1C34",
    "outputId": "0f9af996-5d3f-4e70-915d-97efd05a2a35"
   },
   "outputs": [
    {
     "data": {
      "text/plain": [
       "['let', 'seat', 'watch', 'puppy', 'dog', 'parade']"
      ]
     },
     "execution_count": 41,
     "metadata": {},
     "output_type": "execute_result"
    }
   ],
   "source": [
    "sentences[0]"
   ]
  },
  {
   "cell_type": "code",
   "execution_count": null,
   "metadata": {
    "colab": {
     "base_uri": "https://localhost:8080/"
    },
    "id": "fUHbJxWI0E3m",
    "outputId": "4918bf5d-3828-4a1b-ef67-2ec82063a038"
   },
   "outputs": [
    {
     "data": {
      "text/plain": [
       "11821"
      ]
     },
     "execution_count": 42,
     "metadata": {},
     "output_type": "execute_result"
    }
   ],
   "source": [
    "word_freq = defaultdict(int)\n",
    "for sent in sentences:\n",
    "    for i in sent:\n",
    "        word_freq[i] += 1\n",
    "len(word_freq)"
   ]
  },
  {
   "cell_type": "code",
   "execution_count": null,
   "metadata": {
    "colab": {
     "base_uri": "https://localhost:8080/"
    },
    "id": "I1qTBzXi0HCr",
    "outputId": "f7051bb4-9c04-4744-8b1f-3ab9cd409872"
   },
   "outputs": [
    {
     "data": {
      "text/plain": [
       "['fish',\n",
       " 'car',\n",
       " 'computer',\n",
       " 'dog',\n",
       " 'monitor',\n",
       " 'snake',\n",
       " 'bike',\n",
       " 'keyboard',\n",
       " 'steak',\n",
       " 'cat']"
      ]
     },
     "execution_count": 43,
     "metadata": {},
     "output_type": "execute_result"
    }
   ],
   "source": [
    "sorted(word_freq, key=word_freq.get, reverse=True)[:10]"
   ]
  },
  {
   "cell_type": "code",
   "execution_count": null,
   "metadata": {
    "id": "V_d9k6yB0I4t"
   },
   "outputs": [],
   "source": [
    "import multiprocessing\n",
    "\n",
    "from gensim.models import Word2Vec\n",
    "\n",
    "cores = multiprocessing.cpu_count() # Count the number of cores in a computer\n",
    "\n",
    "w2v_model = Word2Vec(min_count=8,\n",
    "                     window=4,\n",
    "                     size=300,\n",
    "                     sample=6e-5, \n",
    "                     alpha=0.03, \n",
    "                     min_alpha=0.0007, \n",
    "                     negative=20,\n",
    "                     workers=cores-1)"
   ]
  },
  {
   "cell_type": "code",
   "execution_count": null,
   "metadata": {
    "colab": {
     "base_uri": "https://localhost:8080/"
    },
    "id": "Y6GKy4990TAh",
    "outputId": "fb701553-6799-4bea-aeee-3f6cb1311c72"
   },
   "outputs": [
    {
     "name": "stderr",
     "output_type": "stream",
     "text": [
      "INFO - 23:51:42: collecting all words and their counts\n",
      "INFO - 23:51:42: PROGRESS: at sentence #0, processed 0 words, keeping 0 word types\n",
      "INFO - 23:51:42: collected 11821 word types from a corpus of 59273 raw words and 5817 sentences\n",
      "INFO - 23:51:42: Loading a fresh vocabulary\n",
      "INFO - 23:51:42: effective_min_count=8 retains 1601 unique words (13% of original 11821, drops 10220)\n",
      "INFO - 23:51:42: effective_min_count=8 leaves 39389 word corpus (66% of original 59273, drops 19884)\n",
      "INFO - 23:51:42: deleting the raw counts dictionary of 11821 items\n",
      "INFO - 23:51:42: sample=6e-05 downsamples 1601 most-common words\n",
      "INFO - 23:51:42: downsampling leaves estimated 14800 word corpus (37.6% of prior 39389)\n",
      "INFO - 23:51:42: estimated required memory for 1601 words and 300 dimensions: 4642900 bytes\n",
      "INFO - 23:51:42: resetting layer weights\n"
     ]
    },
    {
     "name": "stdout",
     "output_type": "stream",
     "text": [
      "Time to build vocab: 0.01 mins\n"
     ]
    }
   ],
   "source": [
    "t = time()\n",
    "\n",
    "w2v_model.build_vocab(sentences, progress_per=10000)\n",
    "\n",
    "print('Time to build vocab: {} mins'.format(round((time() - t) / 60, 2)))"
   ]
  },
  {
   "cell_type": "code",
   "execution_count": null,
   "metadata": {
    "colab": {
     "base_uri": "https://localhost:8080/"
    },
    "id": "pA8EReZV0VlV",
    "outputId": "9ea3eccc-d4c9-40d1-d88c-c85e77d7598b"
   },
   "outputs": [
    {
     "name": "stderr",
     "output_type": "stream",
     "text": [
      "INFO - 23:51:51: training model with 1 workers on 1601 vocabulary and 300 features, using sg=0 hs=0 sample=6e-05 negative=20 window=4\n",
      "INFO - 23:51:51: worker thread finished; awaiting finish of 0 more threads\n",
      "INFO - 23:51:51: EPOCH - 1 : training on 59273 raw words (14653 effective words) took 0.3s, 51846 effective words/s\n",
      "INFO - 23:51:52: worker thread finished; awaiting finish of 0 more threads\n",
      "INFO - 23:51:52: EPOCH - 2 : training on 59273 raw words (14681 effective words) took 0.3s, 50167 effective words/s\n",
      "INFO - 23:51:52: worker thread finished; awaiting finish of 0 more threads\n",
      "INFO - 23:51:52: EPOCH - 3 : training on 59273 raw words (14593 effective words) took 0.3s, 53484 effective words/s\n",
      "INFO - 23:51:52: worker thread finished; awaiting finish of 0 more threads\n",
      "INFO - 23:51:52: EPOCH - 4 : training on 59273 raw words (14946 effective words) took 0.3s, 53975 effective words/s\n",
      "INFO - 23:51:53: worker thread finished; awaiting finish of 0 more threads\n",
      "INFO - 23:51:53: EPOCH - 5 : training on 59273 raw words (14654 effective words) took 0.3s, 50149 effective words/s\n",
      "INFO - 23:51:53: worker thread finished; awaiting finish of 0 more threads\n",
      "INFO - 23:51:53: EPOCH - 6 : training on 59273 raw words (14817 effective words) took 0.3s, 53268 effective words/s\n",
      "INFO - 23:51:53: worker thread finished; awaiting finish of 0 more threads\n",
      "INFO - 23:51:53: EPOCH - 7 : training on 59273 raw words (14791 effective words) took 0.3s, 55265 effective words/s\n",
      "INFO - 23:51:53: worker thread finished; awaiting finish of 0 more threads\n",
      "INFO - 23:51:53: EPOCH - 8 : training on 59273 raw words (14634 effective words) took 0.3s, 53306 effective words/s\n",
      "INFO - 23:51:54: worker thread finished; awaiting finish of 0 more threads\n",
      "INFO - 23:51:54: EPOCH - 9 : training on 59273 raw words (14787 effective words) took 0.3s, 52288 effective words/s\n",
      "INFO - 23:51:54: worker thread finished; awaiting finish of 0 more threads\n",
      "INFO - 23:51:54: EPOCH - 10 : training on 59273 raw words (14825 effective words) took 0.3s, 54988 effective words/s\n",
      "INFO - 23:51:54: worker thread finished; awaiting finish of 0 more threads\n",
      "INFO - 23:51:54: EPOCH - 11 : training on 59273 raw words (14818 effective words) took 0.3s, 54086 effective words/s\n",
      "INFO - 23:51:55: worker thread finished; awaiting finish of 0 more threads\n",
      "INFO - 23:51:55: EPOCH - 12 : training on 59273 raw words (14728 effective words) took 0.4s, 37507 effective words/s\n",
      "INFO - 23:51:55: worker thread finished; awaiting finish of 0 more threads\n",
      "INFO - 23:51:55: EPOCH - 13 : training on 59273 raw words (14914 effective words) took 0.3s, 51267 effective words/s\n",
      "INFO - 23:51:55: worker thread finished; awaiting finish of 0 more threads\n",
      "INFO - 23:51:55: EPOCH - 14 : training on 59273 raw words (14715 effective words) took 0.4s, 38952 effective words/s\n",
      "INFO - 23:51:56: worker thread finished; awaiting finish of 0 more threads\n",
      "INFO - 23:51:56: EPOCH - 15 : training on 59273 raw words (14780 effective words) took 0.4s, 32992 effective words/s\n",
      "INFO - 23:51:56: worker thread finished; awaiting finish of 0 more threads\n",
      "INFO - 23:51:56: EPOCH - 16 : training on 59273 raw words (14750 effective words) took 0.3s, 54537 effective words/s\n",
      "INFO - 23:51:56: worker thread finished; awaiting finish of 0 more threads\n",
      "INFO - 23:51:56: EPOCH - 17 : training on 59273 raw words (14781 effective words) took 0.3s, 51554 effective words/s\n",
      "INFO - 23:51:57: worker thread finished; awaiting finish of 0 more threads\n",
      "INFO - 23:51:57: EPOCH - 18 : training on 59273 raw words (14736 effective words) took 0.3s, 50716 effective words/s\n",
      "INFO - 23:51:57: worker thread finished; awaiting finish of 0 more threads\n",
      "INFO - 23:51:57: EPOCH - 19 : training on 59273 raw words (14826 effective words) took 0.3s, 52958 effective words/s\n",
      "INFO - 23:51:57: worker thread finished; awaiting finish of 0 more threads\n",
      "INFO - 23:51:57: EPOCH - 20 : training on 59273 raw words (14677 effective words) took 0.3s, 53275 effective words/s\n",
      "INFO - 23:51:58: worker thread finished; awaiting finish of 0 more threads\n",
      "INFO - 23:51:58: EPOCH - 21 : training on 59273 raw words (14825 effective words) took 0.3s, 50657 effective words/s\n",
      "INFO - 23:51:58: worker thread finished; awaiting finish of 0 more threads\n",
      "INFO - 23:51:58: EPOCH - 22 : training on 59273 raw words (14687 effective words) took 0.3s, 53092 effective words/s\n",
      "INFO - 23:51:58: worker thread finished; awaiting finish of 0 more threads\n",
      "INFO - 23:51:58: EPOCH - 23 : training on 59273 raw words (14630 effective words) took 0.3s, 53081 effective words/s\n",
      "INFO - 23:51:58: worker thread finished; awaiting finish of 0 more threads\n",
      "INFO - 23:51:58: EPOCH - 24 : training on 59273 raw words (14766 effective words) took 0.3s, 53438 effective words/s\n",
      "INFO - 23:51:59: worker thread finished; awaiting finish of 0 more threads\n",
      "INFO - 23:51:59: EPOCH - 25 : training on 59273 raw words (14733 effective words) took 0.3s, 50460 effective words/s\n",
      "INFO - 23:51:59: worker thread finished; awaiting finish of 0 more threads\n",
      "INFO - 23:51:59: EPOCH - 26 : training on 59273 raw words (14802 effective words) took 0.3s, 54349 effective words/s\n",
      "INFO - 23:51:59: worker thread finished; awaiting finish of 0 more threads\n",
      "INFO - 23:51:59: EPOCH - 27 : training on 59273 raw words (14738 effective words) took 0.3s, 52942 effective words/s\n",
      "INFO - 23:52:00: worker thread finished; awaiting finish of 0 more threads\n",
      "INFO - 23:52:00: EPOCH - 28 : training on 59273 raw words (14755 effective words) took 0.3s, 50431 effective words/s\n",
      "INFO - 23:52:00: worker thread finished; awaiting finish of 0 more threads\n",
      "INFO - 23:52:00: EPOCH - 29 : training on 59273 raw words (14752 effective words) took 0.3s, 53527 effective words/s\n",
      "INFO - 23:52:00: worker thread finished; awaiting finish of 0 more threads\n",
      "INFO - 23:52:00: EPOCH - 30 : training on 59273 raw words (14762 effective words) took 0.3s, 54218 effective words/s\n",
      "INFO - 23:52:00: training on a 1778190 raw words (442556 effective words) took 9.1s, 48564 effective words/s\n"
     ]
    },
    {
     "name": "stdout",
     "output_type": "stream",
     "text": [
      "Time to train the model: 0.15 mins\n"
     ]
    }
   ],
   "source": [
    "t = time()\n",
    "\n",
    "w2v_model.train(sentences, total_examples=w2v_model.corpus_count, epochs=30, report_delay=1)\n",
    "\n",
    "print('Time to train the model: {} mins'.format(round((time() - t) / 60, 2)))"
   ]
  },
  {
   "cell_type": "code",
   "execution_count": null,
   "metadata": {
    "colab": {
     "base_uri": "https://localhost:8080/"
    },
    "id": "NLHOjSv80Y1N",
    "outputId": "30dc6a9d-5023-4dec-b86b-0bd3bce9e634"
   },
   "outputs": [
    {
     "name": "stderr",
     "output_type": "stream",
     "text": [
      "INFO - 23:52:12: precomputing L2-norms of word weight vectors\n"
     ]
    }
   ],
   "source": [
    "w2v_model.init_sims(replace=True)"
   ]
  },
  {
   "cell_type": "code",
   "execution_count": null,
   "metadata": {
    "colab": {
     "base_uri": "https://localhost:8080/"
    },
    "id": "jkHzgb2A0e-x",
    "outputId": "bb57373b-6946-4965-8810-81edcb805dd8"
   },
   "outputs": [
    {
     "data": {
      "text/plain": [
       "[('show', 0.9999154806137085),\n",
       " ('say', 0.999912679195404),\n",
       " ('reach', 0.9999126195907593),\n",
       " ('buy_motorcycle', 0.999911367893219),\n",
       " ('detail', 0.9999113082885742),\n",
       " ('word', 0.9999113082885742),\n",
       " ('shape', 0.9999110698699951),\n",
       " ('train', 0.999910295009613),\n",
       " ('close', 0.9999100565910339),\n",
       " ('speak', 0.9999099969863892),\n",
       " ('thing', 0.9999098777770996),\n",
       " ('kill', 0.9999096393585205),\n",
       " ('rock', 0.999909520149231),\n",
       " ('finally', 0.9999092817306519),\n",
       " ('right', 0.9999091625213623)]"
      ]
     },
     "execution_count": 50,
     "metadata": {},
     "output_type": "execute_result"
    }
   ],
   "source": [
    "w2v_model.wv.most_similar(positive=[\"cat\"],topn=15)"
   ]
  },
  {
   "cell_type": "code",
   "execution_count": null,
   "metadata": {
    "colab": {
     "base_uri": "https://localhost:8080/"
    },
    "id": "2g0cEbJt0imS",
    "outputId": "ef5fabb6-6e40-4bd3-b198-b24aed1cfaf0"
   },
   "outputs": [
    {
     "data": {
      "text/plain": [
       "0.9998966"
      ]
     },
     "execution_count": 51,
     "metadata": {},
     "output_type": "execute_result"
    }
   ],
   "source": [
    "w2v_model.wv.similarity(\"dog\", 'cat')"
   ]
  },
  {
   "cell_type": "code",
   "execution_count": null,
   "metadata": {
    "colab": {
     "base_uri": "https://localhost:8080/",
     "height": 90
    },
    "id": "C641SFn91V2A",
    "outputId": "74bd852d-e549-4414-c8a3-684f4b10f618"
   },
   "outputs": [
    {
     "name": "stderr",
     "output_type": "stream",
     "text": [
      "/usr/local/lib/python3.7/dist-packages/gensim/models/keyedvectors.py:895: FutureWarning: arrays to stack must be passed as a \"sequence\" type such as list or tuple. Support for non-sequence iterables such as generators is deprecated as of NumPy 1.16 and will raise an error in the future.\n",
      "  vectors = vstack(self.word_vec(word, use_norm=True) for word in used_words).astype(REAL)\n"
     ]
    },
    {
     "data": {
      "application/vnd.google.colaboratory.intrinsic+json": {
       "type": "string"
      },
      "text/plain": [
       "'bike'"
      ]
     },
     "execution_count": 52,
     "metadata": {},
     "output_type": "execute_result"
    }
   ],
   "source": [
    "w2v_model.wv.doesnt_match(['dog', 'cat', 'bike'])"
   ]
  },
  {
   "cell_type": "code",
   "execution_count": null,
   "metadata": {
    "colab": {
     "base_uri": "https://localhost:8080/"
    },
    "id": "x3mB9vfx2Bnf",
    "outputId": "35008754-03f9-4059-cbcc-181afd5a543e"
   },
   "outputs": [
    {
     "data": {
      "text/plain": [
       "[('rhinocero', 0.9997884035110474),\n",
       " ('crocodile', 0.9997789859771729),\n",
       " ('hog', 0.9997754693031311)]"
      ]
     },
     "execution_count": 61,
     "metadata": {},
     "output_type": "execute_result"
    }
   ],
   "source": [
    "w2v_model.wv.most_similar(positive=[\"elephant\", \"monitor\"], negative=[\"tv\"], topn=3)"
   ]
  },
  {
   "cell_type": "code",
   "execution_count": null,
   "metadata": {
    "id": "G0-eOolw2SjA"
   },
   "outputs": [],
   "source": [
    "import numpy as np\n",
    "import matplotlib.pyplot as plt\n",
    "%matplotlib inline\n",
    " \n",
    "import seaborn as sns\n",
    "sns.set_style(\"darkgrid\")\n",
    "\n",
    "from sklearn.decomposition import PCA\n",
    "from sklearn.manifold import TSNE\n",
    "\n",
    "def tsnescatterplot(model, word, list_names):\n",
    "    \"\"\" Plot in seaborn the results from the t-SNE dimensionality reduction algorithm of the vectors of a query word,\n",
    "    its list of most similar words, and a list of words.\n",
    "    \"\"\"\n",
    "    arrays = np.empty((0, 300), dtype='f')\n",
    "    word_labels = [word]\n",
    "    color_list  = ['red']\n",
    "\n",
    "    # adds the vector of the query word\n",
    "    arrays = np.append(arrays, model.wv.__getitem__([word]), axis=0)\n",
    "    \n",
    "    # gets list of most similar words\n",
    "    close_words = model.wv.most_similar([word])\n",
    "    \n",
    "    # adds the vector for each of the closest words to the array\n",
    "    for wrd_score in close_words:\n",
    "        wrd_vector = model.wv.__getitem__([wrd_score[0]])\n",
    "        word_labels.append(wrd_score[0])\n",
    "        color_list.append('blue')\n",
    "        arrays = np.append(arrays, wrd_vector, axis=0)\n",
    "    \n",
    "    # adds the vector for each of the words from list_names to the array\n",
    "    for wrd in list_names:\n",
    "        wrd_vector = model.wv.__getitem__([wrd])\n",
    "        word_labels.append(wrd)\n",
    "        color_list.append('green')\n",
    "        arrays = np.append(arrays, wrd_vector, axis=0)\n",
    "        \n",
    "    # Reduces the dimensionality from 300 to 50 dimensions with PCA\n",
    "    reduc = PCA(n_components=10).fit_transform(arrays)\n",
    "    \n",
    "    # Finds t-SNE coordinates for 2 dimensions\n",
    "    np.set_printoptions(suppress=True)\n",
    "    \n",
    "    Y = TSNE(n_components=2, random_state=0, perplexity=15).fit_transform(reduc)\n",
    "    \n",
    "    # Sets everything up to plot\n",
    "    df = pd.DataFrame({'x': [x for x in Y[:, 0]],\n",
    "                       'y': [y for y in Y[:, 1]],\n",
    "                       'words': word_labels,\n",
    "                       'color': color_list})\n",
    "    \n",
    "    fig, _ = plt.subplots()\n",
    "    fig.set_size_inches(9, 9)\n",
    "    \n",
    "    # Basic plot\n",
    "    p1 = sns.regplot(data=df,\n",
    "                     x=\"x\",\n",
    "                     y=\"y\",\n",
    "                     fit_reg=False,\n",
    "                     marker=\"o\",\n",
    "                     scatter_kws={'s': 40,\n",
    "                                  'facecolors': df['color']\n",
    "                                 }\n",
    "                    )\n",
    "    \n",
    "    # Adds annotations one by one with a loop\n",
    "    for line in range(0, df.shape[0]):\n",
    "         p1.text(df[\"x\"][line],\n",
    "                 df['y'][line],\n",
    "                 '  ' + df[\"words\"][line].title(),\n",
    "                 horizontalalignment='left',\n",
    "                 verticalalignment='bottom', size='medium',\n",
    "                 color=df['color'][line],\n",
    "                 weight='normal'\n",
    "                ).set_size(15)\n",
    "\n",
    "    \n",
    "    plt.xlim(Y[:, 0].min()-50, Y[:, 0].max()+50)\n",
    "    plt.ylim(Y[:, 1].min()-50, Y[:, 1].max()+50)\n",
    "            \n",
    "    plt.title('t-SNE visualization for {}'.format(word.title()))\n",
    "    "
   ]
  },
  {
   "cell_type": "code",
   "execution_count": null,
   "metadata": {
    "id": "TBo5PBNrP5pM"
   },
   "outputs": [],
   "source": [
    "col_names = [x.lower() for x in df['raw_character_text'].unique()]"
   ]
  },
  {
   "cell_type": "code",
   "execution_count": null,
   "metadata": {
    "colab": {
     "base_uri": "https://localhost:8080/",
     "height": 657
    },
    "id": "zIyTtZk-2Y8a",
    "outputId": "9bd2ef58-28ff-4063-e170-8e6d80e64353"
   },
   "outputs": [
    {
     "name": "stderr",
     "output_type": "stream",
     "text": [
      "/usr/local/lib/python3.7/dist-packages/sklearn/manifold/_t_sne.py:783: FutureWarning: The default initialization in TSNE will change from 'random' to 'pca' in 1.2.\n",
      "  FutureWarning,\n",
      "/usr/local/lib/python3.7/dist-packages/sklearn/manifold/_t_sne.py:793: FutureWarning: The default learning rate in TSNE will change from 200.0 to 'auto' in 1.2.\n",
      "  FutureWarning,\n"
     ]
    },
    {
     "data": {
      "image/png": "[encoded data removed]",
      "text/plain": [
       "<Figure size 648x648 with 1 Axes>"
      ]
     },
     "metadata": {},
     "output_type": "display_data"
    }
   ],
   "source": [
    "tsnescatterplot(w2v_model, 'dog', col_names)"
   ]
  },
  {
   "cell_type": "code",
   "execution_count": null,
   "metadata": {
    "colab": {
     "base_uri": "https://localhost:8080/",
     "height": 657
    },
    "id": "6asD90pe2apS",
    "outputId": "161a227e-817c-4884-c19b-4ea863322ab1"
   },
   "outputs": [
    {
     "name": "stderr",
     "output_type": "stream",
     "text": [
      "/usr/local/lib/python3.7/dist-packages/sklearn/manifold/_t_sne.py:783: FutureWarning: The default initialization in TSNE will change from 'random' to 'pca' in 1.2.\n",
      "  FutureWarning,\n",
      "/usr/local/lib/python3.7/dist-packages/sklearn/manifold/_t_sne.py:793: FutureWarning: The default learning rate in TSNE will change from 200.0 to 'auto' in 1.2.\n",
      "  FutureWarning,\n"
     ]
    },
    {
     "data": {
      "image/png": "[encoded data removed]",
      "text/plain": [
       "<Figure size 648x648 with 1 Axes>"
      ]
     },
     "metadata": {},
     "output_type": "display_data"
    }
   ],
   "source": [
    "tsnescatterplot(w2v_model, 'dog', [i[0] for i in w2v_model.wv.most_similar(negative=[\"dog\"])])"
   ]
  },
  {
   "cell_type": "code",
   "execution_count": null,
   "metadata": {
    "id": "RpBroskWUK4I"
   },
   "outputs": [],
   "source": [
    "word_annotations = {\n",
    " 'dog': 'animal',\n",
    " 'elephant': 'animal',\n",
    " 'snake': 'animal',\n",
    " 'pig': 'animal',\n",
    " 'cow': 'animal',\n",
    " 'fish': 'animal',\n",
    " 'cat': 'animal',\n",
    " 'steak': 'food',\n",
    " 'kebab': 'food',\n",
    " 'pork': 'food',\n",
    " 'salad': 'food',\n",
    " 'tomato': 'food',\n",
    " 'onion': 'food',\n",
    " 'car': 'vehicle',\n",
    " 'motorcycle': 'vehicle',\n",
    " 'bike': 'vehicle',\n",
    " 'plane': 'vehicle',\n",
    " 'skateboard': 'vehicle',\n",
    " 'helicopter': 'vehicle',\n",
    " 'bicycle': 'vehicle',\n",
    " 'computer': 'device',\n",
    " 'keyboard': 'device',\n",
    " 'monitor': 'device',\n",
    " 'cpu': 'device',\n",
    " 'tv': 'device',\n",
    " 'phone': 'device',\n",
    "}"
   ]
  },
  {
   "cell_type": "code",
   "execution_count": null,
   "metadata": {
    "colab": {
     "base_uri": "https://localhost:8080/",
     "height": 355
    },
    "id": "FWbe74jaPQxd",
    "outputId": "29286e5d-bdbd-456d-8ca4-50c7659c9893"
   },
   "outputs": [
    {
     "name": "stderr",
     "output_type": "stream",
     "text": [
      "/usr/local/lib/python3.7/dist-packages/sklearn/manifold/_t_sne.py:783: FutureWarning: The default initialization in TSNE will change from 'random' to 'pca' in 1.2.\n",
      "  FutureWarning,\n",
      "/usr/local/lib/python3.7/dist-packages/sklearn/manifold/_t_sne.py:793: FutureWarning: The default learning rate in TSNE will change from 200.0 to 'auto' in 1.2.\n",
      "  FutureWarning,\n"
     ]
    },
    {
     "data": {
      "image/png": "[encoded data removed]",
      "text/plain": [
       "<Figure size 432x288 with 1 Axes>"
      ]
     },
     "metadata": {},
     "output_type": "display_data"
    }
   ],
   "source": [
    "colors = {'animal':'green', 'food':'blue', 'vehicle':'yellow', 'device':'red'}\n",
    "\n",
    "X = []\n",
    "\n",
    "for col in col_names:\n",
    "  X.append(w2v_model.wv[col])\n",
    "\n",
    "tsne = TSNE(n_components=2, n_iter=3000, random_state=np.random.RandomState(30), perplexity=10)\n",
    "X_tsne = tsne.fit_transform(X)\n",
    "\n",
    "c = [colors[word_annotations[x]] for x in col_names]\n",
    "\n",
    "fig, ax = plt.subplots()\n",
    "ax.scatter(X_tsne[:, 0], X_tsne[:, 1], c=c)\n",
    "\n",
    "for i, txt in enumerate(X):\n",
    "    ax.annotate(col_names[i], (X_tsne[:, 0][i], X_tsne[:, 1][i]))"
   ]
  },
  {
   "cell_type": "code",
   "execution_count": null,
   "metadata": {
    "colab": {
     "base_uri": "https://localhost:8080/"
    },
    "id": "VmIPowdaXPD8",
    "outputId": "b9f029e8-eee8-4f5b-fee1-178134763925"
   },
   "outputs": [
    {
     "name": "stdout",
     "output_type": "stream",
     "text": [
      "['fasttext-wiki-news-subwords-300', 'conceptnet-numberbatch-17-06-300', 'word2vec-ruscorpora-300', 'word2vec-google-news-300', 'glove-wiki-gigaword-50', 'glove-wiki-gigaword-100', 'glove-wiki-gigaword-200', 'glove-wiki-gigaword-300', 'glove-twitter-25', 'glove-twitter-50', 'glove-twitter-100', 'glove-twitter-200', '__testing_word2vec-matrix-synopsis']\n"
     ]
    }
   ],
   "source": [
    "import gensim.downloader\n",
    "# Show all available models in gensim-data\n",
    "print(list(gensim.downloader.info()['models'].keys()))"
   ]
  },
  {
   "cell_type": "code",
   "execution_count": null,
   "metadata": {
    "colab": {
     "base_uri": "https://localhost:8080/"
    },
    "id": "A3LdJEfTYeRX",
    "outputId": "229ca702-a1bf-449e-d661-e842dc705c80"
   },
   "outputs": [
    {
     "metadata": {
      "tags": null
     },
     "name": "stderr",
     "output_type": "stream",
     "text": [
      "INFO - 23:59:01: Creating /root/gensim-data\n"
     ]
    },
    {
     "metadata": {
      "tags": null
     },
     "name": "stdout",
     "output_type": "stream",
     "text": [
      "[==================================================] 100.0% 376.1/376.1MB downloaded\n"
     ]
    },
    {
     "name": "stderr",
     "output_type": "stream",
     "text": [
      "INFO - 00:00:24: glove-wiki-gigaword-300 downloaded\n",
      "INFO - 00:00:24: loading projection weights from /root/gensim-data/glove-wiki-gigaword-300/glove-wiki-gigaword-300.gz\n",
      "INFO - 00:02:33: loaded (400000, 300) matrix from /root/gensim-data/glove-wiki-gigaword-300/glove-wiki-gigaword-300.gz\n"
     ]
    }
   ],
   "source": [
    "glove_vectors = gensim.downloader.load('glove-wiki-gigaword-300')"
   ]
  },
  {
   "cell_type": "code",
   "execution_count": null,
   "metadata": {
    "colab": {
     "base_uri": "https://localhost:8080/"
    },
    "id": "U8xxh1F0Yint",
    "outputId": "5b8859c3-371c-4fcc-d05b-c01fb3436945"
   },
   "outputs": [
    {
     "name": "stderr",
     "output_type": "stream",
     "text": [
      "INFO - 00:03:31: precomputing L2-norms of word weight vectors\n"
     ]
    },
    {
     "data": {
      "text/plain": [
       "[('dogs', 0.788855791091919),\n",
       " ('cat', 0.681674599647522),\n",
       " ('pet', 0.6291598081588745),\n",
       " ('puppy', 0.5936061143875122),\n",
       " ('hound', 0.5468214750289917),\n",
       " ('horse', 0.5369751453399658),\n",
       " ('animal', 0.5316445827484131),\n",
       " ('cats', 0.5080744028091431),\n",
       " ('canine', 0.5038435459136963),\n",
       " ('pets', 0.501996636390686)]"
      ]
     },
     "execution_count": 72,
     "metadata": {},
     "output_type": "execute_result"
    }
   ],
   "source": [
    "glove_vectors.most_similar('dog')"
   ]
  },
  {
   "cell_type": "code",
   "execution_count": null,
   "metadata": {
    "colab": {
     "base_uri": "https://localhost:8080/",
     "height": 389
    },
    "id": "AgRR-UrWYnAJ",
    "outputId": "8085cf73-e05c-47ed-b7fa-8d9d10a8af94"
   },
   "outputs": [
    {
     "name": "stderr",
     "output_type": "stream",
     "text": [
      "/usr/local/lib/python3.7/dist-packages/ipykernel_launcher.py:4: DeprecationWarning: Call to deprecated `wv` (Attribute will be removed in 4.0.0, use self instead).\n",
      "  after removing the cwd from sys.path.\n",
      "/usr/local/lib/python3.7/dist-packages/sklearn/manifold/_t_sne.py:783: FutureWarning: The default initialization in TSNE will change from 'random' to 'pca' in 1.2.\n",
      "  FutureWarning,\n",
      "/usr/local/lib/python3.7/dist-packages/sklearn/manifold/_t_sne.py:793: FutureWarning: The default learning rate in TSNE will change from 200.0 to 'auto' in 1.2.\n",
      "  FutureWarning,\n"
     ]
    },
    {
     "data": {
      "image/png": "[encoded data removed]",
      "text/plain": [
       "<Figure size 432x288 with 1 Axes>"
      ]
     },
     "metadata": {},
     "output_type": "display_data"
    }
   ],
   "source": [
    "X = []\n",
    "\n",
    "for col in col_names:\n",
    "  X.append(glove_vectors.wv[col])\n",
    "\n",
    "tsne = TSNE(n_components=2, n_iter=3000, random_state=np.random.RandomState(20), perplexity=10)\n",
    "X_tsne = tsne.fit_transform(X)\n",
    "\n",
    "c = [colors[word_annotations[x]] for x in col_names]\n",
    "\n",
    "fig, ax = plt.subplots()\n",
    "ax.scatter(X_tsne[:, 0], X_tsne[:, 1], c=c)\n",
    "\n",
    "for i, txt in enumerate(X):\n",
    "    ax.annotate(col_names[i], (X_tsne[:, 0][i], X_tsne[:, 1][i]))"
   ]
  },
  {
   "cell_type": "code",
   "execution_count": null,
   "metadata": {
    "colab": {
     "base_uri": "https://localhost:8080/"
    },
    "id": "khBmRkksbQ-o",
    "outputId": "75b107d9-2e74-42e7-c5e3-da9d993db948"
   },
   "outputs": [
    {
     "name": "stderr",
     "output_type": "stream",
     "text": [
      "/usr/local/lib/python3.7/dist-packages/ipykernel_launcher.py:1: DeprecationWarning: Call to deprecated `wv` (Attribute will be removed in 4.0.0, use self instead).\n",
      "  \"\"\"Entry point for launching an IPython kernel.\n"
     ]
    },
    {
     "data": {
      "text/plain": [
       "[('man', 0.6788584589958191),\n",
       " ('father', 0.5293229818344116),\n",
       " ('person', 0.5283361673355103)]"
      ]
     },
     "execution_count": 79,
     "metadata": {},
     "output_type": "execute_result"
    }
   ],
   "source": [
    "glove_vectors.wv.most_similar(positive=[\"woman\", \"king\"], negative=[\"queen\"], topn=3)"
   ]
  }
 ],
 "metadata": {
  "colab": {
   "collapsed_sections": [],
   "name": "word2vec.ipynb",
   "provenance": []
  },
  "kernelspec": {
   "display_name": "Python 3 (ipykernel)",
   "language": "python",
   "name": "python3"
  },
  "language_info": {
   "codemirror_mode": {
    "name": "ipython",
    "version": 3
   },
   "file_extension": ".py",
   "mimetype": "text/x-python",
   "name": "python",
   "nbconvert_exporter": "python",
   "pygments_lexer": "ipython3",
   "version": "3.10.3"
  }
 },
 "nbformat": 4,
 "nbformat_minor": 1
}