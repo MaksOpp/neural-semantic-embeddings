{
 "cells": [
  {
   "cell_type": "code",
   "execution_count": 1,
   "id": "6cab3e15",
   "metadata": {},
   "outputs": [],
   "source": [
    "from sklearn.manifold import TSNE\n",
    "import numpy as np\n",
    "import matplotlib.pyplot as plt\n",
    "from scipy.spatial import distance"
   ]
  },
  {
   "cell_type": "code",
   "execution_count": 2,
   "id": "9a5684af",
   "metadata": {},
   "outputs": [
    {
     "name": "stdout",
     "output_type": "stream",
     "text": [
      "['fasttext-wiki-news-subwords-300', 'conceptnet-numberbatch-17-06-300', 'word2vec-ruscorpora-300', 'word2vec-google-news-300', 'glove-wiki-gigaword-50', 'glove-wiki-gigaword-100', 'glove-wiki-gigaword-200', 'glove-wiki-gigaword-300', 'glove-twitter-25', 'glove-twitter-50', 'glove-twitter-100', 'glove-twitter-200', '__testing_word2vec-matrix-synopsis']\n"
     ]
    }
   ],
   "source": [
    "import gensim.downloader\n",
    "# Show all available models in gensim-data\n",
    "print(list(gensim.downloader.info()['models'].keys()))\n",
    "\n",
    "glove_vectors = gensim.downloader.load('glove-wiki-gigaword-300')"
   ]
  },
  {
   "cell_type": "code",
   "execution_count": 5,
   "id": "5365bbc8",
   "metadata": {},
   "outputs": [
    {
     "name": "stdout",
     "output_type": "stream",
     "text": [
      "Loaded 400000 word vectors.\n",
      "{'vehicle': 6.22577667236328, 'device': 5.250414292017618, 'animal': 18.646080017089847, 'meal': 6.7603126764297485}\n",
      "{'vehicle': 1.394062876701355, 'device': 1.9254615505536397, 'animal': 7.955170495169503, 'meal': 12.270964622497559}\n",
      "{'vehicle': 16.49170017242432, 'device': 8.591289440790812, 'animal': 6.5290389742170065, 'meal': -0.005848323305447906}\n",
      "{'vehicle': 6.872500487736293, 'device': 13.15525778134664, 'animal': 4.632625784192767, 'meal': 1.0037638545036316}\n"
     ]
    }
   ],
   "source": [
    "# Category -> words\n",
    "data = {\n",
    "    'animal': ['dog', 'elephant', 'snake', 'pig', 'cow', 'fish', 'cat'],\n",
    "    'meal': ['steak', 'kebab', 'pork', 'salad', 'tomato', 'onion'],\n",
    "    'vehicle': ['car', 'motorcycle', 'bike', 'plane', 'skateboard', 'helicopter', 'bicycle'],\n",
    "    'device': ['computer', 'keyboard', 'monitor', 'cpu', 'tv', 'phone']\n",
    "}\n",
    "# Words -> category\n",
    "categories = {word: key for key, words in data.items() for word in words}\n",
    "\n",
    "# Load the whole embedding matrix\n",
    "embeddings_index = {}\n",
    "with open('glove.6B.100d.txt', encoding=\"utf8\") as f:\n",
    "  for line in f:\n",
    "    values = line.split()\n",
    "    word = values[0]\n",
    "    embed = np.array(values[1:], dtype=np.float32)\n",
    "    embeddings_index[word] = embed\n",
    "print('Loaded %s word vectors.' % len(embeddings_index))\n",
    "# Embeddings for available words\n",
    "data_embeddings = {key: value for key, value in embeddings_index.items() if key in categories.keys()}\n",
    "\n",
    "# Processing the query\n",
    "def process(query):\n",
    "  query_embed = embeddings_index[query]\n",
    "  scores = {}\n",
    "  for word, embed in data_embeddings.items():\n",
    "    category = categories[word]\n",
    "    dist = query_embed.dot(embed)\n",
    "    dist /= len(data[category])\n",
    "    scores[category] = scores.get(category, 0) + dist\n",
    "  return scores\n",
    "\n",
    "# Testing\n",
    "print(process('bird'))\n",
    "print(process('burger'))\n",
    "print(process('airplane'))\n",
    "print(process('microphone'))"
   ]
  }
 ],
 "metadata": {
  "kernelspec": {
   "display_name": "Python 3 (ipykernel)",
   "language": "python",
   "name": "python3"
  },
  "language_info": {
   "codemirror_mode": {
    "name": "ipython",
    "version": 3
   },
   "file_extension": ".py",
   "mimetype": "text/x-python",
   "name": "python",
   "nbconvert_exporter": "python",
   "pygments_lexer": "ipython3",
   "version": "3.10.3"
  }
 },
 "nbformat": 4,
 "nbformat_minor": 5
}
